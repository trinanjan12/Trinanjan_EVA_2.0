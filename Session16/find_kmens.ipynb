{
 "cells": [
  {
   "cell_type": "code",
   "execution_count": 22,
   "metadata": {},
   "outputs": [],
   "source": [
    "from PIL import Image\n",
    "import pandas as pd\n",
    "import json\n",
    "import numpy as np\n",
    "from sklearn.cluster import KMeans\n",
    "from matplotlib import pyplot as plt"
   ]
  },
  {
   "cell_type": "code",
   "execution_count": 37,
   "metadata": {},
   "outputs": [
    {
     "name": "stdout",
     "output_type": "stream",
     "text": [
      "--------------------------- All classes in the dataset ---------------------------\n"
     ]
    },
    {
     "data": {
      "text/plain": [
       "{\"class\":\"Up\"}           11\n",
       "{\"class\":\"DownRight\"}    11\n",
       "{\"class\":\"Top\"}          10\n",
       "{\"class\":\"Back\"}         10\n",
       "{\"class\":\"UpLeft\"}       10\n",
       "{\"class\":\"DownLeft\"}     10\n",
       "{\"class\":\"Left\"}         10\n",
       "{\"class\":\"Right\"}        10\n",
       "{\"class\":\"Front\"}        10\n",
       "{\"class\":\"UpRight\"}      10\n",
       "{\"class\":\"Down\"}          9\n",
       "Name: region_attributes, dtype: int64"
      ]
     },
     "execution_count": 37,
     "metadata": {},
     "output_type": "execute_result"
    }
   ],
   "source": [
    "file = './annotations.csv'\n",
    "csv = pd.read_csv(file)\n",
    "print('--------------------------- All classes in the dataset ---------------------------')\n",
    "csv['region_attributes'].value_counts()"
   ]
  },
  {
   "cell_type": "code",
   "execution_count": 38,
   "metadata": {},
   "outputs": [],
   "source": [
    "# load data for kmeans \n",
    "def load_dataset(csv_file):\n",
    "    data = []\n",
    "    for row in csv.iterrows():\n",
    "        img = Image.open('/home/trinanjan/Desktop/EVA/eva_test/Session16/face_images_merged/{}'.format(row[1]['filename']))\n",
    "        img_bbox = json.loads(row[1]['region_shape_attributes'])\n",
    "        # todo -- add img width and hight while creating annotataions   \n",
    "        # currently size is used from pillow obj        \n",
    "        width, height = img.size\n",
    "        xmin,ymin = img_bbox['x'] , img_bbox['y'] , \n",
    "        xmax,ymax =  xmin + img_bbox['width'] , ymin + img_bbox['height']\n",
    "        # normalize values from 0 to 1\n",
    "        xmin = xmin / width\n",
    "        ymin = ymin / height\n",
    "        xmax = xmax / width\n",
    "        ymax = ymax / height\n",
    "        # kmenas data         \n",
    "        data.append([xmax - xmin, ymax - ymin])\n",
    "    return np.array(data)"
   ]
  },
  {
   "cell_type": "code",
   "execution_count": 25,
   "metadata": {},
   "outputs": [],
   "source": [
    "# convert the dataset\n",
    "final_data = load_dataset(csv)\n",
    "# find kmeans cluster\n",
    "kmens_cluster = KMeans(n_clusters=4)\n",
    "kmens_output = kmens_cluster.fit_predict(final_data)"
   ]
  },
  {
   "cell_type": "code",
   "execution_count": 26,
   "metadata": {},
   "outputs": [
    {
     "data": {
      "text/plain": [
       "<matplotlib.collections.PathCollection at 0x7f03061f0240>"
      ]
     },
     "execution_count": 26,
     "metadata": {},
     "output_type": "execute_result"
    },
    {
     "data": {
      "image/png": "[encoded data removed]",
      "text/plain": [
       "<matplotlib.figure.Figure at 0x7f0305e06b38>"
      ]
     },
     "metadata": {
      "needs_background": "light"
     },
     "output_type": "display_data"
    }
   ],
   "source": [
    "# plot kmeans cluster with centroid points\n",
    "plt.scatter(final_data[:,0], final_data[:,1],c = kmens_cluster.labels_, s=50, cmap='winter')\n",
    "plt.scatter(kmens_cluster.cluster_centers_[:, 0], kmens_cluster.cluster_centers_[:, 1], s=300, c='olive')"
   ]
  },
  {
   "cell_type": "code",
   "execution_count": 27,
   "metadata": {},
   "outputs": [
    {
     "name": "stdout",
     "output_type": "stream",
     "text": [
      "[[ 6.60907027  9.41364109]\n",
      " [11.7921423  11.06796026]\n",
      " [ 9.13581056  7.69302125]\n",
      " [ 9.48019948 11.67948076]]\n"
     ]
    }
   ],
   "source": [
    "# final anchor boxes are multiplied by grid size in yolov2 (not sure about yolov3)\n",
    "final_cluster_size = 13*(kmens_cluster.cluster_centers_)\n",
    "print(final_cluster_size)"
   ]
  },
  {
   "cell_type": "code",
   "execution_count": 28,
   "metadata": {},
   "outputs": [
    {
     "name": "stdout",
     "output_type": "stream",
     "text": [
      "[array([6.60907027, 9.41364109]), array([9.13581056, 7.69302125]), array([ 9.48019948, 11.67948076]), array([11.7921423 , 11.06796026])]\n"
     ]
    }
   ],
   "source": [
    "# sorting anchor boxes according to area\n",
    "# small ones are used for small obj detection\n",
    "# medium ones are used for medium obj detection\n",
    "# larger ones are for large objs \n",
    "final_cluster_size = sorted(final_cluster_size,key=lambda x: x[0]* x[1])\n",
    "print(final_cluster_size)"
   ]
  }
 ],
 "metadata": {
  "kernelspec": {
   "display_name": "Python 3",
   "language": "python",
   "name": "python3"
  }
 },
 "nbformat": 4,
 "nbformat_minor": 2
}
