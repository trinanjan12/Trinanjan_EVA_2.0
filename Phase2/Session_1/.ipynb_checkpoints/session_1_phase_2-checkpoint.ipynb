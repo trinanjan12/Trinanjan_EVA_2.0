{
 "cells": [
  {
   "cell_type": "code",
   "execution_count": null,
   "metadata": {},
   "outputs": [],
   "source": [
    "'''\n",
    "Disclaimer :\n",
    "This code is purely copied from deep learning with python book(François Chollet's)\n",
    "Incase of any problem related to the code, please contact him\n",
    "https://www.linkedin.com/in/fchollet/\n",
    "'''"
   ]
  },
  {
   "cell_type": "code",
   "execution_count": 46,
   "metadata": {},
   "outputs": [],
   "source": [
    "# All import goes here\n",
    "\n",
    "import os\n",
    "\n",
    "import keras\n",
    "import matplotlib.pyplot as plt\n",
    "import numpy as np\n",
    "from keras.layers import Dense, Embedding, Flatten\n",
    "from keras.models import Sequential\n",
    "from keras.preprocessing.sequence import pad_sequences\n",
    "from keras.preprocessing.text import Tokenizer\n",
    "from tqdm import tqdm_notebook as tqdm"
   ]
  },
  {
   "cell_type": "code",
   "execution_count": 32,
   "metadata": {},
   "outputs": [],
   "source": [
    "# glove embs link : https://nlp.stanford.edu/projects/glove/\n",
    "# imdb data link : http://mng.bz/0tIo"
   ]
  },
  {
   "cell_type": "code",
   "execution_count": 33,
   "metadata": {},
   "outputs": [
    {
     "name": "stderr",
     "output_type": "stream",
     "text": [
      "/home/trinanjan/.local/lib/python3.6/site-packages/ipykernel_launcher.py:13: TqdmDeprecationWarning: This function will be removed in tqdm==5.0.0\n",
      "Please use `tqdm.notebook.tqdm` instead of `tqdm.tqdm_notebook`\n",
      "  del sys.path[0]\n",
      "Widget Javascript not detected.  It may not be installed or enabled properly.\n"
     ]
    },
    {
     "data": {
      "application/vnd.jupyter.widget-view+json": {
       "model_id": "75a63d603e9a410689ce4fa8a5c5e31e"
      }
     },
     "metadata": {},
     "output_type": "display_data"
    },
    {
     "name": "stdout",
     "output_type": "stream",
     "text": [
      "\n"
     ]
    },
    {
     "name": "stderr",
     "output_type": "stream",
     "text": [
      "Widget Javascript not detected.  It may not be installed or enabled properly.\n"
     ]
    },
    {
     "data": {
      "application/vnd.jupyter.widget-view+json": {
       "model_id": "0fb5eece66144f52b6c0b4fd029d94db"
      }
     },
     "metadata": {},
     "output_type": "display_data"
    },
    {
     "name": "stdout",
     "output_type": "stream",
     "text": [
      "\n"
     ]
    }
   ],
   "source": [
    "'''\n",
    "This block of code goes through the imdb dataset \n",
    "saves all the review paragraphs in a variable text \n",
    "and the corresponding label in labels variable\n",
    "'''\n",
    "\n",
    "imdb_dir = './aclImdb'\n",
    "train_dir = os.path.join(imdb_dir, 'train')\n",
    "labels = []\n",
    "texts = []\n",
    "for label_type in ['neg', 'pos']:\n",
    "    dir_name = os.path.join(train_dir, label_type)\n",
    "    for fname in tqdm(os.listdir(dir_name)):\n",
    "        if fname[-4:] == '.txt':\n",
    "            f = open(os.path.join(dir_name, fname))\n",
    "            texts.append(f.read())\n",
    "            f.close()\n",
    "            if label_type == 'neg':\n",
    "                labels.append(0)\n",
    "            else:\n",
    "                labels.append(1)"
   ]
  },
  {
   "cell_type": "code",
   "execution_count": 34,
   "metadata": {},
   "outputs": [
    {
     "name": "stdout",
     "output_type": "stream",
     "text": [
      "One of the movie review looks like this ----------------\n",
      "\n",
      " Fairly good movie, but not a true story.<br /><br />Rubin \"Hurricane\" Carter was a notorius liar, a murder and was never found not guilty. New Jersey State just didn't go for it a third time as 20 years had gone. Carter got an offer in 1976: \"Pass a lie test and go free\". He didn't take it. This film should never have been made, but money talks. A lot of people have unjustly spend their lives in prison and undoubtedly more blacks than white. Why choose a fake story?<br /><br />Jens\n",
      "And the corresponding label looks like this ----------------\n",
      "\n",
      " 0\n"
     ]
    }
   ],
   "source": [
    "# example of texts and labels\n",
    "print('One of the movie review looks like this ----------------\\n\\n',texts[0])\n",
    "print('And the corresponding label looks like this ----------------\\n\\n',labels[0])"
   ]
  },
  {
   "cell_type": "code",
   "execution_count": 35,
   "metadata": {},
   "outputs": [
    {
     "name": "stdout",
     "output_type": "stream",
     "text": [
      "Found 88582 unique tokens.\n"
     ]
    }
   ],
   "source": [
    "maxlen = 100  # Cuts off reviews after 100 words\n",
    "training_samples = 8000  # Trains on 8000 samples\n",
    "validation_samples = 10000  # Validates on 10,000 samples\n",
    "max_words = 10000  # Considers only the top 10,000 words in the dataset\n",
    "tokenizer = Tokenizer(num_words=max_words)\n",
    "# TODO whats the num_word attribute for as word_index.items() lenght is not same as num_words\n",
    "\n",
    "# using keras inbuilt tokenizer\n",
    "'''\n",
    "fit_on_texts Updates internal vocabulary based on a list of texts.\n",
    "This method creates the vocabulary index based on word frequency. \n",
    "So if you give it something like, \"The cat sat on the mat.\" \n",
    "It will create a dictionary s.t. word_index[\"the\"] = 1; word_index[\"cat\"] = 2 \n",
    "it is word -> index dictionary so every word gets a unique integer value. 0 is reserved for padding. \n",
    "So lower integer means more frequent word (often the first few are stop words because they appear a lot).\n",
    "'''\n",
    "tokenizer.fit_on_texts(texts)\n",
    "\n",
    "# texts_to_sequences Transforms each text in texts to a sequence of integers\n",
    "sequences = tokenizer.texts_to_sequences(texts)\n",
    "\n",
    "word_index = tokenizer.word_index\n",
    "print('Found %s unique tokens.' % len(word_index))"
   ]
  },
  {
   "cell_type": "code",
   "execution_count": 36,
   "metadata": {},
   "outputs": [
    {
     "name": "stdout",
     "output_type": "stream",
     "text": [
      "Shape of data tensor: (25000, 100)\n",
      "Shape of label tensor: (25000,)\n"
     ]
    }
   ],
   "source": [
    "# so sequences that are shorter than others should be padded with zeros, and sequences\n",
    "# that are longer should be truncated\n",
    "data = pad_sequences(sequences, maxlen=maxlen)\n",
    "labels = np.asarray(labels)\n",
    "print('Shape of data tensor:', data.shape)\n",
    "print('Shape of label tensor:', labels.shape)"
   ]
  },
  {
   "cell_type": "code",
   "execution_count": 37,
   "metadata": {},
   "outputs": [],
   "source": [
    "'''\n",
    "Splits the data into a training set and a\n",
    "validation set, but first shuffles the data,\n",
    "because samples are ordered (all negative first, \n",
    "then all positive)\n",
    "'''\n",
    "indices = np.arange(data.shape[0])\n",
    "np.random.shuffle(indices)\n",
    "data = data[indices]\n",
    "labels = labels[indices]\n",
    "\n",
    "x_train = data[:training_samples]\n",
    "y_train = labels[:training_samples]\n",
    "x_val = data[training_samples: training_samples + validation_samples]\n",
    "y_val = labels[training_samples: training_samples + validation_samples]"
   ]
  },
  {
   "cell_type": "code",
   "execution_count": 38,
   "metadata": {},
   "outputs": [
    {
     "name": "stdout",
     "output_type": "stream",
     "text": [
      "Found 400000 word vectors.\n"
     ]
    }
   ],
   "source": [
    "'''\n",
    "good read glove : https://medium.com/@jonathan_hui/nlp-word-embedding-glove-5e7f523999f6\n",
    "glove is pretained word-vectors, glove is trained on huge data (dependng on the data trained we use different models)\n",
    "Using glove pretained weights we will set mature weights in our embedding layer\n",
    "\n",
    "Instead of learning word embeddings jointly with the problem you want to solve,\n",
    "you can load embedding vectors from a precomputed embedding space that you\n",
    "know is highly structured and exhibits useful properties—that captures generic\n",
    "aspects of language structure\n",
    "'''\n",
    "\n",
    "glove_dir = './glove_vectors'\n",
    "embeddings_index = {}\n",
    "f = open(os.path.join(glove_dir, 'glove.6B.100d.txt'))\n",
    "for line in f:\n",
    "    values = line.split()\n",
    "    word = values[0]\n",
    "    coefs = np.asarray(values[1:], dtype='float32')\n",
    "    embeddings_index[word] = coefs\n",
    "f.close()\n",
    "print('Found %s word vectors.' % len(embeddings_index))"
   ]
  },
  {
   "cell_type": "code",
   "execution_count": 41,
   "metadata": {},
   "outputs": [
    {
     "name": "stderr",
     "output_type": "stream",
     "text": [
      "/home/trinanjan/.local/lib/python3.6/site-packages/ipykernel_launcher.py:10: TqdmDeprecationWarning: This function will be removed in tqdm==5.0.0\n",
      "Please use `tqdm.notebook.tqdm` instead of `tqdm.tqdm_notebook`\n",
      "  # Remove the CWD from sys.path while we load stuff.\n",
      "Widget Javascript not detected.  It may not be installed or enabled properly.\n"
     ]
    },
    {
     "data": {
      "application/vnd.jupyter.widget-view+json": {
       "model_id": "e867340234dd46c3842eae5a61786860"
      }
     },
     "metadata": {},
     "output_type": "display_data"
    },
    {
     "name": "stdout",
     "output_type": "stream",
     "text": [
      "\n"
     ]
    }
   ],
   "source": [
    "'''\n",
    "Next, we’ll build an embedding matrix that we can load into an Embedding layer. It\n",
    "must be a matrix of shape (max_words, embedding_dim) , where each entry i contains\n",
    "the embedding_dim -dimensional vector for the word of index i in the reference word\n",
    "index (built during tokenization). Note that index 0 isn’t supposed to stand for any\n",
    "word or token—it’s a placeholder.\n",
    "'''\n",
    "embedding_dim = 100\n",
    "embedding_matrix = np.zeros((max_words, embedding_dim))\n",
    "for word, i in tqdm(word_index.items(), total=len(word_index.items())):\n",
    "    if i < max_words:\n",
    "        embedding_vector = embeddings_index.get(word)\n",
    "        if embedding_vector is not None:\n",
    "            embedding_matrix[i] = embedding_vector"
   ]
  },
  {
   "cell_type": "code",
   "execution_count": 42,
   "metadata": {},
   "outputs": [
    {
     "data": {
      "text/plain": [
       "array([-0.038194  , -0.24487001,  0.72812003, -0.39961001,  0.083172  ,\n",
       "        0.043953  , -0.39140999,  0.3344    , -0.57545   ,  0.087459  ,\n",
       "        0.28786999, -0.06731   ,  0.30906001, -0.26383999, -0.13231   ,\n",
       "       -0.20757   ,  0.33395001, -0.33848   , -0.31742999, -0.48335999,\n",
       "        0.1464    , -0.37303999,  0.34577   ,  0.052041  ,  0.44946   ,\n",
       "       -0.46970999,  0.02628   , -0.54154998, -0.15518001, -0.14106999,\n",
       "       -0.039722  ,  0.28277001,  0.14393   ,  0.23464   , -0.31020999,\n",
       "        0.086173  ,  0.20397   ,  0.52623999,  0.17163999, -0.082378  ,\n",
       "       -0.71787   , -0.41531   ,  0.20334999, -0.12763   ,  0.41367   ,\n",
       "        0.55186999,  0.57907999, -0.33476999, -0.36559001, -0.54856998,\n",
       "       -0.062892  ,  0.26583999,  0.30204999,  0.99774998, -0.80480999,\n",
       "       -3.0243001 ,  0.01254   , -0.36941999,  2.21670008,  0.72201002,\n",
       "       -0.24978   ,  0.92136002,  0.034514  ,  0.46744999,  1.10790002,\n",
       "       -0.19358   , -0.074575  ,  0.23353   , -0.052062  , -0.22044   ,\n",
       "        0.057162  , -0.15806   , -0.30798   , -0.41624999,  0.37972   ,\n",
       "        0.15006   , -0.53211999, -0.20550001, -1.25259995,  0.071624  ,\n",
       "        0.70564997,  0.49744001, -0.42063001,  0.26148   , -1.53799999,\n",
       "       -0.30223   , -0.073438  , -0.28312001,  0.37103999, -0.25217   ,\n",
       "        0.016215  , -0.017099  , -0.38984001,  0.87423998, -0.72569001,\n",
       "       -0.51058   , -0.52028   , -0.1459    ,  0.82779998,  0.27061999])"
      ]
     },
     "execution_count": 42,
     "metadata": {},
     "output_type": "execute_result"
    }
   ],
   "source": [
    "embedding_matrix[1]"
   ]
  },
  {
   "cell_type": "code",
   "execution_count": 43,
   "metadata": {},
   "outputs": [
    {
     "name": "stdout",
     "output_type": "stream",
     "text": [
      "_________________________________________________________________\n",
      "Layer (type)                 Output Shape              Param #   \n",
      "=================================================================\n",
      "embedding_2 (Embedding)      (None, 100, 100)          1000000   \n",
      "_________________________________________________________________\n",
      "flatten_2 (Flatten)          (None, 10000)             0         \n",
      "_________________________________________________________________\n",
      "dense_3 (Dense)              (None, 32)                320032    \n",
      "_________________________________________________________________\n",
      "dense_4 (Dense)              (None, 1)                 33        \n",
      "=================================================================\n",
      "Total params: 1,320,065\n",
      "Trainable params: 1,320,065\n",
      "Non-trainable params: 0\n",
      "_________________________________________________________________\n"
     ]
    }
   ],
   "source": [
    "# model architecture to train\n",
    "model = Sequential()\n",
    "model.add(Embedding(max_words, embedding_dim, input_length=maxlen))\n",
    "model.add(Flatten())\n",
    "model.add(Dense(32, activation='relu'))\n",
    "model.add(Dense(1, activation='sigmoid'))\n",
    "model.summary()"
   ]
  },
  {
   "cell_type": "code",
   "execution_count": 44,
   "metadata": {},
   "outputs": [],
   "source": [
    "'''\n",
    "The Embedding layer has a single weight matrix: a 2D float matrix where each entry i is\n",
    "the word vector meant to be associated with index i. Simple enough. Let's Load the GloVe\n",
    "matrix we prepared into the Embedding layer, the first layer in the model.\n",
    "'''\n",
    "model.layers[0].set_weights([embedding_matrix])\n",
    "model.layers[0].trainable = False"
   ]
  },
  {
   "cell_type": "code",
   "execution_count": 45,
   "metadata": {},
   "outputs": [
    {
     "name": "stdout",
     "output_type": "stream",
     "text": [
      "Train on 8000 samples, validate on 10000 samples\n",
      "Epoch 1/20\n",
      "8000/8000 [==============================] - 1s 159us/step - loss: 0.7121 - acc: 0.6075 - val_loss: 0.5928 - val_acc: 0.6839\n",
      "Epoch 2/20\n",
      "8000/8000 [==============================] - 1s 142us/step - loss: 0.5616 - acc: 0.7121 - val_loss: 0.6488 - val_acc: 0.6550\n",
      "Epoch 3/20\n",
      "8000/8000 [==============================] - 1s 144us/step - loss: 0.4736 - acc: 0.7776 - val_loss: 0.6090 - val_acc: 0.6856\n",
      "Epoch 4/20\n",
      "8000/8000 [==============================] - 1s 139us/step - loss: 0.3994 - acc: 0.8209 - val_loss: 0.6139 - val_acc: 0.6954\n",
      "Epoch 5/20\n",
      "8000/8000 [==============================] - 1s 142us/step - loss: 0.3660 - acc: 0.8390 - val_loss: 0.7091 - val_acc: 0.6765\n",
      "Epoch 6/20\n",
      "8000/8000 [==============================] - 1s 141us/step - loss: 0.3048 - acc: 0.8695 - val_loss: 1.0319 - val_acc: 0.6177\n",
      "Epoch 7/20\n",
      "8000/8000 [==============================] - 1s 144us/step - loss: 0.2482 - acc: 0.8950 - val_loss: 0.7417 - val_acc: 0.6933\n",
      "Epoch 8/20\n",
      "8000/8000 [==============================] - 1s 142us/step - loss: 0.1923 - acc: 0.9217 - val_loss: 0.9189 - val_acc: 0.6732\n",
      "Epoch 9/20\n",
      "8000/8000 [==============================] - 1s 142us/step - loss: 0.1518 - acc: 0.9411 - val_loss: 1.2616 - val_acc: 0.6424\n",
      "Epoch 10/20\n",
      "8000/8000 [==============================] - 1s 148us/step - loss: 0.1232 - acc: 0.9533 - val_loss: 0.9921 - val_acc: 0.6871\n",
      "Epoch 11/20\n",
      "8000/8000 [==============================] - 1s 154us/step - loss: 0.0926 - acc: 0.9675 - val_loss: 1.0628 - val_acc: 0.6855\n",
      "Epoch 12/20\n",
      "8000/8000 [==============================] - 1s 157us/step - loss: 0.0682 - acc: 0.9769 - val_loss: 1.1207 - val_acc: 0.6861\n",
      "Epoch 13/20\n",
      "8000/8000 [==============================] - 1s 153us/step - loss: 0.0571 - acc: 0.9820 - val_loss: 1.3353 - val_acc: 0.6811\n",
      "Epoch 14/20\n",
      "8000/8000 [==============================] - 1s 157us/step - loss: 0.0420 - acc: 0.9875 - val_loss: 1.3816 - val_acc: 0.6849\n",
      "Epoch 15/20\n",
      "8000/8000 [==============================] - 1s 146us/step - loss: 0.0394 - acc: 0.9871 - val_loss: 1.3931 - val_acc: 0.6865\n",
      "Epoch 16/20\n",
      "8000/8000 [==============================] - 1s 157us/step - loss: 0.0404 - acc: 0.9888 - val_loss: 1.5067 - val_acc: 0.6856\n",
      "Epoch 17/20\n",
      "8000/8000 [==============================] - 1s 147us/step - loss: 0.0284 - acc: 0.9908 - val_loss: 2.2534 - val_acc: 0.6454\n",
      "Epoch 18/20\n",
      "8000/8000 [==============================] - 1s 145us/step - loss: 0.0435 - acc: 0.9870 - val_loss: 1.7970 - val_acc: 0.6594\n",
      "Epoch 19/20\n",
      "8000/8000 [==============================] - 1s 145us/step - loss: 0.0328 - acc: 0.9915 - val_loss: 1.6691 - val_acc: 0.6847\n",
      "Epoch 20/20\n",
      "8000/8000 [==============================] - 1s 156us/step - loss: 0.0218 - acc: 0.9930 - val_loss: 1.7835 - val_acc: 0.6819\n"
     ]
    }
   ],
   "source": [
    "# compile and train the model\n",
    "model.compile(optimizer='rmsprop', loss='binary_crossentropy', metrics=['acc'])\n",
    "history = model.fit(x_train,\n",
    "                    y_train,\n",
    "                    epochs=20,\n",
    "                    batch_size=32,\n",
    "                    validation_data=(x_val, y_val))\n",
    "model.save_weights('pre_trained_glove_model.h5')"
   ]
  },
  {
   "cell_type": "code",
   "execution_count": 47,
   "metadata": {},
   "outputs": [
    {
     "data": {
      "image/png": "[encoded data removed]",
      "text/plain": [
       "<matplotlib.figure.Figure at 0x7fbc693406a0>"
      ]
     },
     "metadata": {
      "needs_background": "light"
     },
     "output_type": "display_data"
    },
    {
     "data": {
      "image/png": "[encoded data removed]",
      "text/plain": [
       "<matplotlib.figure.Figure at 0x7fbc69303e80>"
      ]
     },
     "metadata": {
      "needs_background": "light"
     },
     "output_type": "display_data"
    }
   ],
   "source": [
    "acc = history.history['acc']\n",
    "val_acc = history.history['val_acc']\n",
    "loss = history.history['loss']\n",
    "val_loss = history.history['val_loss']\n",
    "epochs = range(1, len(acc) + 1)\n",
    "plt.plot(epochs, acc, 'bo', label='Training acc')\n",
    "plt.plot(epochs, val_acc, 'b', label='Validation acc')\n",
    "plt.title('Training and validation accuracy')\n",
    "plt.legend()\n",
    "plt.figure()\n",
    "plt.plot(epochs, loss, 'bo', label='Training loss')\n",
    "plt.plot(epochs, val_loss, 'b', label='Validation loss')\n",
    "plt.title('Training and validation loss')\n",
    "plt.legend()\n",
    "plt.show()"
   ]
  },
  {
   "cell_type": "code",
   "execution_count": null,
   "metadata": {},
   "outputs": [],
   "source": []
  }
 ],
 "metadata": {
  "kernelspec": {
   "display_name": "Python 3",
   "language": "python",
   "name": "python3"
  },
  "language_info": {
   "codemirror_mode": {
    "name": "ipython",
    "version": 3
   },
   "file_extension": ".py",
   "mimetype": "text/x-python",
   "name": "python",
   "nbconvert_exporter": "python",
   "pygments_lexer": "ipython3",
   "version": "3.6.8"
  }
 },
 "nbformat": 4,
 "nbformat_minor": 2
}
