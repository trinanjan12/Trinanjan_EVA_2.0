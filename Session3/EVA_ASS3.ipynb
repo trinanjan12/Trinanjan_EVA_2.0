{
 "cells": [
  {
   "cell_type": "markdown",
   "metadata": {
    "colab_type": "text",
    "id": "aNyZv-Ec52ot"
   },
   "source": [
    "# **Import Libraries and modules**"
   ]
  },
  {
   "cell_type": "code",
   "execution_count": null,
   "metadata": {
    "colab": {
     "base_uri": "https://localhost:8080/",
     "height": 34
    },
    "colab_type": "code",
    "executionInfo": {
     "elapsed": 7266,
     "status": "ok",
     "timestamp": 1565238759907,
     "user": {
      "displayName": "Trinanjan Saha",
      "photoUrl": "https://lh3.googleusercontent.com/-0zjxK1d6vzw/AAAAAAAAAAI/AAAAAAAACWs/lJENQiDwKvM/s64/photo.jpg",
      "userId": "04053274871203917390"
     },
     "user_tz": -330
    },
    "id": "3m3w1Cw49Zkt",
    "outputId": "22916d0e-bdab-4853-adf7-e40c26cd9f90"
   },
   "outputs": [],
   "source": [
    "# https://keras.io/\n",
    "!pip install -q keras\n",
    "import keras"
   ]
  },
  {
   "cell_type": "code",
   "execution_count": 1,
   "metadata": {
    "ExecuteTime": {
     "end_time": "2019-08-08T08:41:27.462394Z",
     "start_time": "2019-08-08T08:41:25.658381Z"
    },
    "colab": {},
    "colab_type": "code",
    "id": "Eso6UHE080D4"
   },
   "outputs": [
    {
     "name": "stderr",
     "output_type": "stream",
     "text": [
      "Using TensorFlow backend.\n",
      "/home/pintu/.local/lib/python3.6/site-packages/requests/__init__.py:91: RequestsDependencyWarning: urllib3 (1.25.2) or chardet (3.0.4) doesn't match a supported version!\n",
      "  RequestsDependencyWarning)\n"
     ]
    }
   ],
   "source": [
    "# import all the necessary libraries \n",
    "\n",
    "import numpy as np\n",
    "\n",
    "from keras.models import Sequential\n",
    "from keras.layers import Dense, Dropout, Activation, Flatten, Add\n",
    "from keras.layers import Convolution2D, MaxPooling2D\n",
    "from keras.utils import np_utils\n",
    "\n",
    "from keras.datasets import mnist"
   ]
  },
  {
   "cell_type": "markdown",
   "metadata": {
    "colab_type": "text",
    "id": "zByEi95J86RD"
   },
   "source": [
    "### Load pre-shuffled MNIST data into train and test sets"
   ]
  },
  {
   "cell_type": "code",
   "execution_count": 2,
   "metadata": {
    "ExecuteTime": {
     "end_time": "2019-08-08T08:41:27.644962Z",
     "start_time": "2019-08-08T08:41:27.463645Z"
    },
    "colab": {
     "base_uri": "https://localhost:8080/",
     "height": 51
    },
    "colab_type": "code",
    "executionInfo": {
     "elapsed": 6064,
     "status": "ok",
     "timestamp": 1565238760631,
     "user": {
      "displayName": "Trinanjan Saha",
      "photoUrl": "https://lh3.googleusercontent.com/-0zjxK1d6vzw/AAAAAAAAAAI/AAAAAAAACWs/lJENQiDwKvM/s64/photo.jpg",
      "userId": "04053274871203917390"
     },
     "user_tz": -330
    },
    "id": "7eRM0QWN83PV",
    "outputId": "25a26f38-375f-4309-9254-d9263a342575"
   },
   "outputs": [],
   "source": [
    "# load mnist data by keras api\n",
    "# This does all the preprocessing while loading the data\n",
    "\n",
    "(X_train, y_train), (X_test, y_test) = mnist.load_data()"
   ]
  },
  {
   "cell_type": "code",
   "execution_count": 3,
   "metadata": {
    "ExecuteTime": {
     "end_time": "2019-08-08T08:41:27.877425Z",
     "start_time": "2019-08-08T08:41:27.646290Z"
    },
    "colab": {
     "base_uri": "https://localhost:8080/",
     "height": 303
    },
    "colab_type": "code",
    "executionInfo": {
     "elapsed": 6174,
     "status": "ok",
     "timestamp": 1565238761128,
     "user": {
      "displayName": "Trinanjan Saha",
      "photoUrl": "https://lh3.googleusercontent.com/-0zjxK1d6vzw/AAAAAAAAAAI/AAAAAAAACWs/lJENQiDwKvM/s64/photo.jpg",
      "userId": "04053274871203917390"
     },
     "user_tz": -330
    },
    "id": "4a4Be72j8-ZC",
    "outputId": "2ef1de9e-5713-4945-c6bb-69e221c9b93e"
   },
   "outputs": [
    {
     "name": "stdout",
     "output_type": "stream",
     "text": [
      "(60000, 28, 28)\n"
     ]
    },
    {
     "data": {
      "text/plain": [
       "<matplotlib.image.AxesImage at 0x7ff3227d76a0>"
      ]
     },
     "execution_count": 3,
     "metadata": {},
     "output_type": "execute_result"
    },
    {
     "data": {
      "image/png": "[encoded data removed]",
      "text/plain": [
       "<Figure size 432x288 with 1 Axes>"
      ]
     },
     "metadata": {
      "needs_background": "light"
     },
     "output_type": "display_data"
    }
   ],
   "source": [
    "# pyplot is a python package used for plotting of images\n",
    "\n",
    "print (X_train.shape)\n",
    "from matplotlib import pyplot as plt\n",
    "%matplotlib inline\n",
    "plt.imshow(X_train[0])"
   ]
  },
  {
   "cell_type": "code",
   "execution_count": 4,
   "metadata": {
    "ExecuteTime": {
     "end_time": "2019-08-08T08:41:27.882536Z",
     "start_time": "2019-08-08T08:41:27.879468Z"
    },
    "colab": {},
    "colab_type": "code",
    "id": "dkmprriw9AnZ"
   },
   "outputs": [],
   "source": [
    "# reshaping train and test data to channel last format\n",
    "\n",
    "X_train = X_train.reshape(X_train.shape[0], 28, 28,1)\n",
    "X_test = X_test.reshape(X_test.shape[0], 28, 28,1)"
   ]
  },
  {
   "cell_type": "code",
   "execution_count": 5,
   "metadata": {
    "ExecuteTime": {
     "end_time": "2019-08-08T08:41:27.985270Z",
     "start_time": "2019-08-08T08:41:27.884336Z"
    },
    "colab": {},
    "colab_type": "code",
    "id": "X2m4YS4E9CRh"
   },
   "outputs": [],
   "source": [
    "# 32 floating point precision and normalizing \n",
    "\n",
    "X_train = X_train.astype('float32')\n",
    "X_test = X_test.astype('float32')\n",
    "X_train /= 255\n",
    "X_test /= 255"
   ]
  },
  {
   "cell_type": "code",
   "execution_count": 6,
   "metadata": {
    "ExecuteTime": {
     "end_time": "2019-08-08T08:41:27.988941Z",
     "start_time": "2019-08-08T08:41:27.986432Z"
    },
    "colab": {
     "base_uri": "https://localhost:8080/",
     "height": 34
    },
    "colab_type": "code",
    "executionInfo": {
     "elapsed": 3767,
     "status": "ok",
     "timestamp": 1565238761137,
     "user": {
      "displayName": "Trinanjan Saha",
      "photoUrl": "https://lh3.googleusercontent.com/-0zjxK1d6vzw/AAAAAAAAAAI/AAAAAAAACWs/lJENQiDwKvM/s64/photo.jpg",
      "userId": "04053274871203917390"
     },
     "user_tz": -330
    },
    "id": "0Mn0vAYD9DvB",
    "outputId": "c75015ad-2aae-449c-a44b-a6ba7669df80"
   },
   "outputs": [
    {
     "data": {
      "text/plain": [
       "array([5, 0, 4, 1, 9, 2, 1, 3, 1, 4], dtype=uint8)"
      ]
     },
     "execution_count": 6,
     "metadata": {},
     "output_type": "execute_result"
    }
   ],
   "source": [
    "y_train[:10]"
   ]
  },
  {
   "cell_type": "code",
   "execution_count": 7,
   "metadata": {
    "ExecuteTime": {
     "end_time": "2019-08-08T08:41:28.236871Z",
     "start_time": "2019-08-08T08:41:28.230702Z"
    },
    "colab": {},
    "colab_type": "code",
    "id": "ZG8JiXR39FHC"
   },
   "outputs": [],
   "source": [
    "# Convert 1-dimensional class arrays to 10-dimensional class matrices\n",
    "Y_train = np_utils.to_categorical(y_train, 10)\n",
    "Y_test = np_utils.to_categorical(y_test, 10)"
   ]
  },
  {
   "cell_type": "code",
   "execution_count": 8,
   "metadata": {
    "ExecuteTime": {
     "end_time": "2019-08-08T08:41:28.526191Z",
     "start_time": "2019-08-08T08:41:28.512819Z"
    },
    "colab": {
     "base_uri": "https://localhost:8080/",
     "height": 187
    },
    "colab_type": "code",
    "executionInfo": {
     "elapsed": 581,
     "status": "ok",
     "timestamp": 1565238763006,
     "user": {
      "displayName": "Trinanjan Saha",
      "photoUrl": "https://lh3.googleusercontent.com/-0zjxK1d6vzw/AAAAAAAAAAI/AAAAAAAACWs/lJENQiDwKvM/s64/photo.jpg",
      "userId": "04053274871203917390"
     },
     "user_tz": -330
    },
    "id": "fYlFRvKS9HMB",
    "outputId": "561a2ab9-51fb-40d9-bd24-1874b0e46f20"
   },
   "outputs": [
    {
     "data": {
      "text/plain": [
       "array([[0., 0., 0., 0., 0., 1., 0., 0., 0., 0.],\n",
       "       [1., 0., 0., 0., 0., 0., 0., 0., 0., 0.],\n",
       "       [0., 0., 0., 0., 1., 0., 0., 0., 0., 0.],\n",
       "       [0., 1., 0., 0., 0., 0., 0., 0., 0., 0.],\n",
       "       [0., 0., 0., 0., 0., 0., 0., 0., 0., 1.],\n",
       "       [0., 0., 1., 0., 0., 0., 0., 0., 0., 0.],\n",
       "       [0., 1., 0., 0., 0., 0., 0., 0., 0., 0.],\n",
       "       [0., 0., 0., 1., 0., 0., 0., 0., 0., 0.],\n",
       "       [0., 1., 0., 0., 0., 0., 0., 0., 0., 0.],\n",
       "       [0., 0., 0., 0., 1., 0., 0., 0., 0., 0.]], dtype=float32)"
      ]
     },
     "execution_count": 8,
     "metadata": {},
     "output_type": "execute_result"
    }
   ],
   "source": [
    "Y_train[:10]\n"
   ]
  },
  {
   "cell_type": "code",
   "execution_count": 9,
   "metadata": {
    "ExecuteTime": {
     "end_time": "2019-08-08T08:41:29.221692Z",
     "start_time": "2019-08-08T08:41:29.215631Z"
    }
   },
   "outputs": [],
   "source": [
    "# add model checkpoint\n",
    "from keras.callbacks import ModelCheckpoint"
   ]
  },
  {
   "cell_type": "code",
   "execution_count": 10,
   "metadata": {
    "ExecuteTime": {
     "end_time": "2019-08-08T08:41:29.767537Z",
     "start_time": "2019-08-08T08:41:29.765536Z"
    }
   },
   "outputs": [],
   "source": [
    "filepath=\"weights-improvement-{epoch:02d}-{val_acc:.4f}.hdf5\"\n",
    "checkpoint = ModelCheckpoint(filepath, monitor='val_acc', verbose=1, save_best_only=True, mode='max')\n",
    "callbacks_list = [checkpoint]"
   ]
  },
  {
   "cell_type": "code",
   "execution_count": 11,
   "metadata": {
    "ExecuteTime": {
     "end_time": "2019-08-08T08:41:38.140548Z",
     "start_time": "2019-08-08T08:41:37.136475Z"
    },
    "colab": {
     "base_uri": "https://localhost:8080/",
     "height": 190
    },
    "colab_type": "code",
    "executionInfo": {
     "elapsed": 522,
     "status": "ok",
     "timestamp": 1565191240419,
     "user": {
      "displayName": "Trinanjan Saha",
      "photoUrl": "https://lh3.googleusercontent.com/-0zjxK1d6vzw/AAAAAAAAAAI/AAAAAAAACWs/lJENQiDwKvM/s64/photo.jpg",
      "userId": "04053274871203917390"
     },
     "user_tz": -330
    },
    "id": "osKqT73Q9JJB",
    "outputId": "67690507-8c4d-4220-b915-4a208fd60402"
   },
   "outputs": [
    {
     "name": "stdout",
     "output_type": "stream",
     "text": [
      "WARNING:tensorflow:From /usr/lib/python3/dist-packages/tensorflow/python/framework/op_def_library.py:263: colocate_with (from tensorflow.python.framework.ops) is deprecated and will be removed in a future version.\n",
      "Instructions for updating:\n",
      "Colocations handled automatically by placer.\n"
     ]
    },
    {
     "name": "stderr",
     "output_type": "stream",
     "text": [
      "/home/pintu/.local/lib/python3.6/site-packages/ipykernel_launcher.py:13: UserWarning: Update your `Conv2D` call to the Keras 2 API: `Conv2D(64, (3, 3), activation=\"relu\", input_shape=(28, 28, 1...)`\n",
      "  del sys.path[0]\n"
     ]
    },
    {
     "name": "stdout",
     "output_type": "stream",
     "text": [
      "WARNING:tensorflow:From /home/pintu/.local/lib/python3.6/site-packages/keras/backend/tensorflow_backend.py:3445: calling dropout (from tensorflow.python.ops.nn_ops) with keep_prob is deprecated and will be removed in a future version.\n",
      "Instructions for updating:\n",
      "Please use `rate` instead of `keep_prob`. Rate should be set to `rate = 1 - keep_prob`.\n",
      "_________________________________________________________________\n",
      "Layer (type)                 Output Shape              Param #   \n",
      "=================================================================\n",
      "conv2d_1 (Conv2D)            (None, 26, 26, 64)        640       \n",
      "_________________________________________________________________\n",
      "batch_normalization_1 (Batch (None, 26, 26, 64)        256       \n",
      "_________________________________________________________________\n",
      "conv2d_2 (Conv2D)            (None, 26, 26, 32)        2080      \n",
      "_________________________________________________________________\n",
      "batch_normalization_2 (Batch (None, 26, 26, 32)        128       \n",
      "_________________________________________________________________\n",
      "max_pooling2d_1 (MaxPooling2 (None, 13, 13, 32)        0         \n",
      "_________________________________________________________________\n",
      "dropout_1 (Dropout)          (None, 13, 13, 32)        0         \n",
      "_________________________________________________________________\n",
      "conv2d_3 (Conv2D)            (None, 11, 11, 32)        9248      \n",
      "_________________________________________________________________\n",
      "batch_normalization_3 (Batch (None, 11, 11, 32)        128       \n",
      "_________________________________________________________________\n",
      "conv2d_4 (Conv2D)            (None, 11, 11, 16)        528       \n",
      "_________________________________________________________________\n",
      "batch_normalization_4 (Batch (None, 11, 11, 16)        64        \n",
      "_________________________________________________________________\n",
      "max_pooling2d_2 (MaxPooling2 (None, 5, 5, 16)          0         \n",
      "_________________________________________________________________\n",
      "dropout_2 (Dropout)          (None, 5, 5, 16)          0         \n",
      "_________________________________________________________________\n",
      "conv2d_5 (Conv2D)            (None, 3, 3, 16)          2320      \n",
      "_________________________________________________________________\n",
      "batch_normalization_5 (Batch (None, 3, 3, 16)          64        \n",
      "_________________________________________________________________\n",
      "dropout_3 (Dropout)          (None, 3, 3, 16)          0         \n",
      "_________________________________________________________________\n",
      "flatten_1 (Flatten)          (None, 144)               0         \n",
      "_________________________________________________________________\n",
      "dense_1 (Dense)              (None, 10)                1450      \n",
      "_________________________________________________________________\n",
      "activation_1 (Activation)    (None, 10)                0         \n",
      "=================================================================\n",
      "Total params: 16,906\n",
      "Trainable params: 16,586\n",
      "Non-trainable params: 320\n",
      "_________________________________________________________________\n"
     ]
    },
    {
     "name": "stderr",
     "output_type": "stream",
     "text": [
      "/home/pintu/.local/lib/python3.6/site-packages/ipykernel_launcher.py:21: UserWarning: Update your `Conv2D` call to the Keras 2 API: `Conv2D(32, (3, 3), activation=\"relu\")`\n",
      "/home/pintu/.local/lib/python3.6/site-packages/ipykernel_launcher.py:29: UserWarning: Update your `Conv2D` call to the Keras 2 API: `Conv2D(16, (3, 3), activation=\"relu\")`\n"
     ]
    }
   ],
   "source": [
    "from keras.layers import Activation,BatchNormalization,Dropout,Dense\n",
    "model = Sequential()\n",
    "\n",
    "# since we have a upper limit of params as 20k we need to use 1x1 conv to bring down the channel size\n",
    "# batch norm is added after conv, helps converge neural net faster\n",
    "# Dropout is added as regularization, helps stopping overfitting \n",
    "\n",
    "# 3 conv blocks are (excluding 1x1)added to decrease input size\n",
    "# dense layer is added at the end for classification to generalize all the conv filters output\n",
    "\n",
    "# With this architecture we get 99.4 acc after 19 epoch\n",
    "\n",
    "model.add(Convolution2D(64, 3, 3, activation='relu', input_shape=(28,28,1)))\n",
    "model.add(BatchNormalization())\n",
    "model.add(Convolution2D(32,1,activation='relu'))\n",
    "model.add(BatchNormalization())\n",
    "model.add(MaxPooling2D(pool_size=(2, 2)))\n",
    "model.add(Dropout(0.2))\n",
    "\n",
    "\n",
    "model.add(Convolution2D(32, 3, 3, activation='relu'))\n",
    "model.add(BatchNormalization())\n",
    "model.add(Convolution2D(16,1, activation='relu'))\n",
    "model.add(BatchNormalization())\n",
    "model.add(MaxPooling2D(pool_size=(2, 2)))\n",
    "model.add(Dropout(0.2))\n",
    "\n",
    "\n",
    "model.add(Convolution2D(16, 3, 3, activation='relu'))\n",
    "model.add(BatchNormalization())\n",
    "model.add(Dropout(0.2))\n",
    "\n",
    "\n",
    "model.add(Flatten())\n",
    "model.add(Dense(10))\n",
    "model.add(Activation('softmax'))\n",
    "model.summary()\n"
   ]
  },
  {
   "cell_type": "code",
   "execution_count": 12,
   "metadata": {
    "ExecuteTime": {
     "end_time": "2019-08-08T08:41:41.105280Z",
     "start_time": "2019-08-08T08:41:41.048569Z"
    },
    "colab": {},
    "colab_type": "code",
    "id": "Zp6SuGrL9M3h"
   },
   "outputs": [],
   "source": [
    "# loss function is categorical_crossentropy, based on loss function the weights are updated\n",
    "# metric is used to judge the performance of the model after each epoch. Here we are using categorical_accuracy as metric, \n",
    "# before running we need to compile the model\n",
    "# adam is a optimization algorithm which is used for weight updates\n",
    "\n",
    "model.compile(loss='categorical_crossentropy',\n",
    "             optimizer='adam',\n",
    "             metrics=['accuracy'])"
   ]
  },
  {
   "cell_type": "code",
   "execution_count": 13,
   "metadata": {
    "ExecuteTime": {
     "end_time": "2019-08-08T08:46:08.454376Z",
     "start_time": "2019-08-08T08:41:42.867265Z"
    }
   },
   "outputs": [
    {
     "name": "stdout",
     "output_type": "stream",
     "text": [
      "WARNING:tensorflow:From /usr/lib/python3/dist-packages/tensorflow/python/ops/math_ops.py:3066: to_int32 (from tensorflow.python.ops.math_ops) is deprecated and will be removed in a future version.\n",
      "Instructions for updating:\n",
      "Use tf.cast instead.\n"
     ]
    },
    {
     "name": "stderr",
     "output_type": "stream",
     "text": [
      "/home/pintu/.local/lib/python3.6/site-packages/ipykernel_launcher.py:3: UserWarning: The `nb_epoch` argument in `fit` has been renamed `epochs`.\n",
      "  This is separate from the ipykernel package so we can avoid doing imports until\n"
     ]
    },
    {
     "name": "stdout",
     "output_type": "stream",
     "text": [
      "Train on 60000 samples, validate on 10000 samples\n",
      "Epoch 1/30\n",
      "60000/60000 [==============================] - 11s 176us/step - loss: 0.2603 - acc: 0.9197 - val_loss: 0.0523 - val_acc: 0.9846\n",
      "\n",
      "Epoch 00001: val_acc improved from -inf to 0.98460, saving model to weights-improvement-01-0.9846.hdf5\n",
      "Epoch 2/30\n",
      "60000/60000 [==============================] - 9s 143us/step - loss: 0.0851 - acc: 0.9737 - val_loss: 0.0370 - val_acc: 0.9880\n",
      "\n",
      "Epoch 00002: val_acc improved from 0.98460 to 0.98800, saving model to weights-improvement-02-0.9880.hdf5\n",
      "Epoch 3/30\n",
      "60000/60000 [==============================] - 8s 141us/step - loss: 0.0695 - acc: 0.9784 - val_loss: 0.0414 - val_acc: 0.9849\n",
      "\n",
      "Epoch 00003: val_acc did not improve from 0.98800\n",
      "Epoch 4/30\n",
      "60000/60000 [==============================] - 8s 141us/step - loss: 0.0584 - acc: 0.9816 - val_loss: 0.0270 - val_acc: 0.9904\n",
      "\n",
      "Epoch 00004: val_acc improved from 0.98800 to 0.99040, saving model to weights-improvement-04-0.9904.hdf5\n",
      "Epoch 5/30\n",
      "60000/60000 [==============================] - 8s 141us/step - loss: 0.0568 - acc: 0.9819 - val_loss: 0.0326 - val_acc: 0.9902\n",
      "\n",
      "Epoch 00005: val_acc did not improve from 0.99040\n",
      "Epoch 6/30\n",
      "60000/60000 [==============================] - 8s 141us/step - loss: 0.0501 - acc: 0.9841 - val_loss: 0.0233 - val_acc: 0.9916\n",
      "\n",
      "Epoch 00006: val_acc improved from 0.99040 to 0.99160, saving model to weights-improvement-06-0.9916.hdf5\n",
      "Epoch 7/30\n",
      "60000/60000 [==============================] - 8s 141us/step - loss: 0.0466 - acc: 0.9852 - val_loss: 0.0244 - val_acc: 0.9918\n",
      "\n",
      "Epoch 00007: val_acc improved from 0.99160 to 0.99180, saving model to weights-improvement-07-0.9918.hdf5\n",
      "Epoch 8/30\n",
      "60000/60000 [==============================] - 8s 141us/step - loss: 0.0436 - acc: 0.9862 - val_loss: 0.0297 - val_acc: 0.9906\n",
      "\n",
      "Epoch 00008: val_acc did not improve from 0.99180\n",
      "Epoch 9/30\n",
      "60000/60000 [==============================] - 9s 142us/step - loss: 0.0423 - acc: 0.9865 - val_loss: 0.0304 - val_acc: 0.9902\n",
      "\n",
      "Epoch 00009: val_acc did not improve from 0.99180\n",
      "Epoch 10/30\n",
      "60000/60000 [==============================] - 8s 141us/step - loss: 0.0388 - acc: 0.9874 - val_loss: 0.0224 - val_acc: 0.9926\n",
      "\n",
      "Epoch 00010: val_acc improved from 0.99180 to 0.99260, saving model to weights-improvement-10-0.9926.hdf5\n",
      "Epoch 11/30\n",
      "60000/60000 [==============================] - 8s 142us/step - loss: 0.0383 - acc: 0.9877 - val_loss: 0.0241 - val_acc: 0.9920\n",
      "\n",
      "Epoch 00011: val_acc did not improve from 0.99260\n",
      "Epoch 12/30\n",
      "60000/60000 [==============================] - 8s 141us/step - loss: 0.0384 - acc: 0.9874 - val_loss: 0.0202 - val_acc: 0.9932\n",
      "\n",
      "Epoch 00012: val_acc improved from 0.99260 to 0.99320, saving model to weights-improvement-12-0.9932.hdf5\n",
      "Epoch 13/30\n",
      "60000/60000 [==============================] - 8s 142us/step - loss: 0.0366 - acc: 0.9882 - val_loss: 0.0213 - val_acc: 0.9937\n",
      "\n",
      "Epoch 00013: val_acc improved from 0.99320 to 0.99370, saving model to weights-improvement-13-0.9937.hdf5\n",
      "Epoch 14/30\n",
      "60000/60000 [==============================] - 8s 141us/step - loss: 0.0343 - acc: 0.9887 - val_loss: 0.0201 - val_acc: 0.9934\n",
      "\n",
      "Epoch 00014: val_acc did not improve from 0.99370\n",
      "Epoch 15/30\n",
      "60000/60000 [==============================] - 8s 141us/step - loss: 0.0330 - acc: 0.9893 - val_loss: 0.0213 - val_acc: 0.9929\n",
      "\n",
      "Epoch 00015: val_acc did not improve from 0.99370\n",
      "Epoch 16/30\n",
      "60000/60000 [==============================] - 8s 142us/step - loss: 0.0333 - acc: 0.9889 - val_loss: 0.0198 - val_acc: 0.9935\n",
      "\n",
      "Epoch 00016: val_acc did not improve from 0.99370\n",
      "Epoch 17/30\n",
      "60000/60000 [==============================] - 8s 141us/step - loss: 0.0336 - acc: 0.9895 - val_loss: 0.0220 - val_acc: 0.9925\n",
      "\n",
      "Epoch 00017: val_acc did not improve from 0.99370\n",
      "Epoch 18/30\n",
      "60000/60000 [==============================] - 8s 141us/step - loss: 0.0315 - acc: 0.9899 - val_loss: 0.0195 - val_acc: 0.9934\n",
      "\n",
      "Epoch 00018: val_acc did not improve from 0.99370\n",
      "Epoch 19/30\n",
      "60000/60000 [==============================] - 9s 143us/step - loss: 0.0321 - acc: 0.9899 - val_loss: 0.0175 - val_acc: 0.9940\n",
      "\n",
      "Epoch 00019: val_acc improved from 0.99370 to 0.99400, saving model to weights-improvement-19-0.9940.hdf5\n",
      "Epoch 20/30\n",
      "60000/60000 [==============================] - 9s 142us/step - loss: 0.0295 - acc: 0.9903 - val_loss: 0.0181 - val_acc: 0.9936\n",
      "\n",
      "Epoch 00020: val_acc did not improve from 0.99400\n",
      "Epoch 21/30\n",
      "60000/60000 [==============================] - 9s 146us/step - loss: 0.0307 - acc: 0.9901 - val_loss: 0.0184 - val_acc: 0.9938\n",
      "\n",
      "Epoch 00021: val_acc did not improve from 0.99400\n",
      "Epoch 22/30\n",
      "60000/60000 [==============================] - 10s 159us/step - loss: 0.0299 - acc: 0.9905 - val_loss: 0.0184 - val_acc: 0.9937\n",
      "\n",
      "Epoch 00022: val_acc did not improve from 0.99400\n",
      "Epoch 23/30\n",
      "60000/60000 [==============================] - 9s 158us/step - loss: 0.0299 - acc: 0.9903 - val_loss: 0.0200 - val_acc: 0.9935\n",
      "\n",
      "Epoch 00023: val_acc did not improve from 0.99400\n",
      "Epoch 24/30\n",
      "60000/60000 [==============================] - 9s 155us/step - loss: 0.0278 - acc: 0.9907 - val_loss: 0.0214 - val_acc: 0.9932\n",
      "\n",
      "Epoch 00024: val_acc did not improve from 0.99400\n",
      "Epoch 25/30\n",
      "60000/60000 [==============================] - 9s 156us/step - loss: 0.0283 - acc: 0.9909 - val_loss: 0.0203 - val_acc: 0.9936\n",
      "\n",
      "Epoch 00025: val_acc did not improve from 0.99400\n",
      "Epoch 26/30\n",
      "60000/60000 [==============================] - 9s 152us/step - loss: 0.0286 - acc: 0.9909 - val_loss: 0.0201 - val_acc: 0.9934\n",
      "\n",
      "Epoch 00026: val_acc did not improve from 0.99400\n",
      "Epoch 27/30\n",
      "60000/60000 [==============================] - 9s 157us/step - loss: 0.0285 - acc: 0.9904 - val_loss: 0.0173 - val_acc: 0.9947\n",
      "\n",
      "Epoch 00027: val_acc improved from 0.99400 to 0.99470, saving model to weights-improvement-27-0.9947.hdf5\n",
      "Epoch 28/30\n",
      "60000/60000 [==============================] - 9s 152us/step - loss: 0.0265 - acc: 0.9913 - val_loss: 0.0218 - val_acc: 0.9929\n",
      "\n",
      "Epoch 00028: val_acc did not improve from 0.99470\n",
      "Epoch 29/30\n",
      "60000/60000 [==============================] - 9s 154us/step - loss: 0.0270 - acc: 0.9911 - val_loss: 0.0203 - val_acc: 0.9932\n",
      "\n",
      "Epoch 00029: val_acc did not improve from 0.99470\n",
      "Epoch 30/30\n",
      "60000/60000 [==============================] - 9s 155us/step - loss: 0.0249 - acc: 0.9913 - val_loss: 0.0225 - val_acc: 0.9928\n",
      "\n",
      "Epoch 00030: val_acc did not improve from 0.99470\n"
     ]
    },
    {
     "data": {
      "text/plain": [
       "<keras.callbacks.History at 0x7ff31cf401d0>"
      ]
     },
     "execution_count": 13,
     "metadata": {},
     "output_type": "execute_result"
    }
   ],
   "source": [
    "# With this architecture we get 99.4 acc after 19 epoch\n",
    "\n",
    "model.fit(X_train, Y_train, batch_size=32, nb_epoch=30, verbose=1 , validation_data=(X_test, Y_test),callbacks=callbacks_list)"
   ]
  },
  {
   "cell_type": "code",
   "execution_count": 14,
   "metadata": {
    "ExecuteTime": {
     "end_time": "2019-08-08T08:46:30.340096Z",
     "start_time": "2019-08-08T08:46:28.733238Z"
    }
   },
   "outputs": [],
   "source": [
    "from keras.models import load_model\n",
    "model = load_model('/home/pintu/Desktop/eva/weights-improvement-27-0.9947.hdf5')"
   ]
  },
  {
   "cell_type": "code",
   "execution_count": 15,
   "metadata": {
    "ExecuteTime": {
     "end_time": "2019-08-08T08:46:31.930971Z",
     "start_time": "2019-08-08T08:46:31.458166Z"
    },
    "colab": {},
    "colab_type": "code",
    "id": "AtsH-lLk-eLb"
   },
   "outputs": [
    {
     "name": "stdout",
     "output_type": "stream",
     "text": [
      "[0.01731959965056085, 0.9947]\n"
     ]
    }
   ],
   "source": [
    "score = model.evaluate(X_test, Y_test, verbose=0)\n",
    "print(score)"
   ]
  },
  {
   "cell_type": "code",
   "execution_count": 16,
   "metadata": {
    "ExecuteTime": {
     "end_time": "2019-08-08T08:46:32.999189Z",
     "start_time": "2019-08-08T08:46:32.991468Z"
    },
    "colab": {
     "base_uri": "https://localhost:8080/",
     "height": 34
    },
    "colab_type": "code",
    "executionInfo": {
     "elapsed": 721,
     "status": "ok",
     "timestamp": 1521865228497,
     "user": {
      "displayName": "Rohan Shravan",
      "photoUrl": "https://lh3.googleusercontent.com/a/default-user=s128",
      "userId": "116259693572096743881"
     },
     "user_tz": -330
    },
    "id": "mkX8JMv79q9r",
    "outputId": "39da9c7f-7727-4e75-90f1-69a8872eb288"
   },
   "outputs": [
    {
     "name": "stdout",
     "output_type": "stream",
     "text": [
      "[0.01731959965056085, 0.9947]\n"
     ]
    }
   ],
   "source": [
    "print(score)"
   ]
  },
  {
   "cell_type": "code",
   "execution_count": 17,
   "metadata": {
    "ExecuteTime": {
     "end_time": "2019-08-08T08:46:34.745617Z",
     "start_time": "2019-08-08T08:46:34.255947Z"
    },
    "colab": {},
    "colab_type": "code",
    "id": "OCWoJkwE9suh"
   },
   "outputs": [],
   "source": [
    "y_pred = model.predict(X_test)"
   ]
  },
  {
   "cell_type": "code",
   "execution_count": 18,
   "metadata": {
    "ExecuteTime": {
     "end_time": "2019-08-08T08:46:35.170682Z",
     "start_time": "2019-08-08T08:46:35.161824Z"
    },
    "colab": {
     "base_uri": "https://localhost:8080/",
     "height": 340
    },
    "colab_type": "code",
    "executionInfo": {
     "elapsed": 787,
     "status": "ok",
     "timestamp": 1517630282206,
     "user": {
      "displayName": "Rohan Shravan",
      "photoUrl": "https://lh3.googleusercontent.com/a/default-user=s128",
      "userId": "116259693572096743881"
     },
     "user_tz": -330
    },
    "id": "Ym7iCFBm9uBs",
    "outputId": "63105130-a938-481a-982d-795f6a299ddc"
   },
   "outputs": [
    {
     "name": "stdout",
     "output_type": "stream",
     "text": [
      "[[1.8797213e-09 9.2185086e-09 2.0057389e-07 1.9529978e-06 9.6918459e-13\n",
      "  9.8543569e-12 1.6932677e-12 9.9999785e-01 1.3932998e-10 3.4240708e-09]\n",
      " [1.0293224e-05 1.8503478e-06 9.9998403e-01 2.9038728e-07 9.9955662e-09\n",
      "  5.9357606e-12 2.9596913e-06 1.5537455e-09 5.3418796e-07 2.4623681e-09]\n",
      " [2.8271996e-08 9.9999559e-01 4.9045099e-07 2.1731735e-07 7.0730431e-07\n",
      "  1.2252579e-07 4.2447795e-07 2.4254937e-06 2.8287692e-08 1.7648819e-08]\n",
      " [9.9999440e-01 1.0499235e-12 9.1089936e-09 8.7334695e-10 7.0709124e-12\n",
      "  3.6005108e-09 5.0700614e-06 3.1191147e-10 4.3299235e-07 3.3436834e-08]\n",
      " [1.4443159e-10 2.3841387e-09 1.7784373e-10 3.1852784e-12 9.9999559e-01\n",
      "  6.1193051e-11 3.8479793e-09 6.1227206e-09 7.0595078e-08 4.3060795e-06]\n",
      " [1.6620641e-08 9.9999440e-01 7.4495119e-07 1.3166053e-08 1.1533838e-06\n",
      "  1.1391379e-08 2.2647778e-07 3.5381606e-06 2.0190228e-08 3.5155310e-08]\n",
      " [3.8402566e-11 1.0513934e-06 5.3034807e-08 2.7223085e-11 9.9992180e-01\n",
      "  3.3981205e-08 6.4363642e-10 9.6357835e-06 3.1314885e-05 3.6095462e-05]\n",
      " [2.4674685e-09 2.7016106e-11 8.7390761e-10 2.0934795e-08 4.1876278e-06\n",
      "  2.9049678e-08 4.2428269e-11 1.2487041e-07 2.1948466e-07 9.9999535e-01]\n",
      " [9.6982194e-07 7.3062761e-10 2.5749458e-09 8.7101322e-09 1.1033259e-08\n",
      "  7.1393198e-01 2.8567153e-01 2.0821517e-08 3.9468447e-04 6.9948044e-07]]\n",
      "[7 2 1 0 4 1 4 9 5]\n"
     ]
    }
   ],
   "source": [
    "print(y_pred[:9])\n",
    "print(y_test[:9])"
   ]
  },
  {
   "cell_type": "code",
   "execution_count": 19,
   "metadata": {
    "ExecuteTime": {
     "end_time": "2019-08-08T08:46:37.847253Z",
     "start_time": "2019-08-08T08:46:37.839872Z"
    },
    "colab": {},
    "colab_type": "code",
    "id": "CT--y98_dr2T"
   },
   "outputs": [],
   "source": [
    "layer_dict = dict([(layer.name, layer) for layer in model.layers])"
   ]
  },
  {
   "cell_type": "code",
   "execution_count": null,
   "metadata": {
    "ExecuteTime": {
     "end_time": "2019-08-08T07:11:36.192814Z",
     "start_time": "2019-08-08T07:11:36.179164Z"
    },
    "colab": {
     "base_uri": "https://localhost:8080/",
     "height": 839
    },
    "colab_type": "code",
    "executionInfo": {
     "elapsed": 11517,
     "status": "ok",
     "timestamp": 1518429932692,
     "user": {
      "displayName": "Rohan Shravan",
      "photoUrl": "https://lh3.googleusercontent.com/a/default-user=s128",
      "userId": "116259693572096743881"
     },
     "user_tz": -330
    },
    "id": "2GY4Upv4dsUR",
    "outputId": "3a2e0c8a-cafa-41dd-95af-a906d7d91393"
   },
   "outputs": [],
   "source": [
    "import numpy as np\n",
    "from matplotlib import pyplot as plt\n",
    "from keras import backend as K\n",
    "%matplotlib inline\n",
    "# util function to convert a tensor into a valid image\n",
    "def deprocess_image(x):\n",
    "    # normalize tensor: center on 0., ensure std is 0.1\n",
    "    x -= x.mean()\n",
    "    x /= (x.std() + 1e-5)\n",
    "    x *= 0.1\n",
    "\n",
    "    # clip to [0, 1]\n",
    "    x += 0.5\n",
    "    x = np.clip(x, 0, 1)\n",
    "\n",
    "    # convert to RGB array\n",
    "    x *= 255\n",
    "    #x = x.transpose((1, 2, 0))\n",
    "    x = np.clip(x, 0, 255).astype('uint8')\n",
    "    return x\n",
    "\n",
    "def vis_img_in_filter(img = np.array(X_train[2]).reshape((1, 28, 28, 1)).astype(np.float64), \n",
    "                      layer_name = 'conv2d_14'):\n",
    "    layer_output = layer_dict[layer_name].output\n",
    "    img_ascs = list()\n",
    "    for filter_index in range(layer_output.shape[3]):\n",
    "        # build a loss function that maximizes the activation\n",
    "        # of the nth filter of the layer considered\n",
    "        loss = K.mean(layer_output[:, :, :, filter_index])\n",
    "\n",
    "        # compute the gradient of the input picture wrt this loss\n",
    "        grads = K.gradients(loss, model.input)[0]\n",
    "\n",
    "        # normalization trick: we normalize the gradient\n",
    "        grads /= (K.sqrt(K.mean(K.square(grads))) + 1e-5)\n",
    "\n",
    "        # this function returns the loss and grads given the input picture\n",
    "        iterate = K.function([model.input], [loss, grads])\n",
    "\n",
    "        # step size for gradient ascent\n",
    "        step = 5.\n",
    "\n",
    "        img_asc = np.array(img)\n",
    "        # run gradient ascent for 20 steps\n",
    "        for i in range(20):\n",
    "            loss_value, grads_value = iterate([img_asc])\n",
    "            img_asc += grads_value * step\n",
    "\n",
    "        img_asc = img_asc[0]\n",
    "        img_ascs.append(deprocess_image(img_asc).reshape((28, 28)))\n",
    "        \n",
    "    if layer_output.shape[3] >= 35:\n",
    "        plot_x, plot_y = 6, 6\n",
    "    elif layer_output.shape[3] >= 23:\n",
    "        plot_x, plot_y = 4, 6\n",
    "    elif layer_output.shape[3] >= 11:\n",
    "        plot_x, plot_y = 2, 6\n",
    "    else:\n",
    "        plot_x, plot_y = 1, 2\n",
    "    fig, ax = plt.subplots(plot_x, plot_y, figsize = (12, 12))\n",
    "    ax[0, 0].imshow(img.reshape((28, 28)), cmap = 'gray')\n",
    "    ax[0, 0].set_title('Input image')\n",
    "    fig.suptitle('Input image and %s filters' % (layer_name,))\n",
    "    fig.tight_layout(pad = 0.3, rect = [0, 0, 0.9, 0.9])\n",
    "    for (x, y) in [(i, j) for i in range(plot_x) for j in range(plot_y)]:\n",
    "        if x == 0 and y == 0:\n",
    "            continue\n",
    "        ax[x, y].imshow(img_ascs[x * plot_y + y - 1], cmap = 'gray')\n",
    "        ax[x, y].set_title('filter %d' % (x * plot_y + y - 1))\n",
    "\n",
    "vis_img_in_filter()"
   ]
  }
 ],
 "metadata": {
  "accelerator": "GPU",
  "colab": {
   "collapsed_sections": [],
   "name": "EVA_ASS3.ipynb",
   "provenance": [
    {
     "file_id": "1gZYwZdkgXBJRr624SqWJ9f452BmKNkNT",
     "timestamp": 1565191180219
    },
    {
     "file_id": "1JURGwe4e5Z7928Zv2eiJVPCQNc702huM",
     "timestamp": 1521864568638
    }
   ],
   "version": "0.3.2"
  },
  "hide_input": false,
  "kernelspec": {
   "display_name": "Python 3",
   "language": "python",
   "name": "python3"
  },
  "language_info": {
   "codemirror_mode": {
    "name": "ipython",
    "version": 3
   },
   "file_extension": ".py",
   "mimetype": "text/x-python",
   "name": "python",
   "nbconvert_exporter": "python",
   "pygments_lexer": "ipython3",
   "version": "3.6.8"
  }
 },
 "nbformat": 4,
 "nbformat_minor": 1
}
