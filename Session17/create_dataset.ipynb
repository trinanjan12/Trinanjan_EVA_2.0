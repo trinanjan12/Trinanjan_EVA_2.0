{
 "cells": [
  {
   "cell_type": "code",
   "execution_count": 60,
   "metadata": {},
   "outputs": [],
   "source": [
    "import os\n",
    "import shutil\n",
    "from PIL import Image\n",
    "from IPython.display import display\n",
    "from tqdm import tqdm_notebook as tqdm\n",
    "from glob import glob as glob"
   ]
  },
  {
   "cell_type": "code",
   "execution_count": 64,
   "metadata": {},
   "outputs": [
    {
     "data": {
      "text/plain": [
       "111"
      ]
     },
     "execution_count": 64,
     "metadata": {},
     "output_type": "execute_result"
    }
   ],
   "source": [
    "img_list = glob('./eva_test/Session17/face_images/*/*')\n",
    "len(img_list)"
   ]
  },
  {
   "cell_type": "code",
   "execution_count": 75,
   "metadata": {},
   "outputs": [],
   "source": [
    "if os.path.exists('./eva_test/Session17/face_images_merged'):\n",
    "    shutil.rmtree('./eva_test/Session17/face_images_merged')\n",
    "os.mkdir(\"./eva_test/Session17/face_images_merged\")"
   ]
  },
  {
   "cell_type": "code",
   "execution_count": 76,
   "metadata": {},
   "outputs": [
    {
     "name": "stderr",
     "output_type": "stream",
     "text": [
      "/home/trinanjan/.local/lib/python3.6/site-packages/ipykernel_launcher.py:1: TqdmDeprecationWarning: This function will be removed in tqdm==5.0.0\n",
      "Please use `tqdm.notebook.tqdm` instead of `tqdm.tqdm_notebook`\n",
      "  \"\"\"Entry point for launching an IPython kernel.\n",
      "Widget Javascript not detected.  It may not be installed or enabled properly.\n",
      "\n"
     ]
    },
    {
     "data": {
      "application/vnd.jupyter.widget-view+json": {
       "model_id": "2f5ddb8e4d154abcbca54b4211666b4e"
      }
     },
     "metadata": {},
     "output_type": "display_data"
    }
   ],
   "source": [
    "for i,img_path in tqdm(enumerate(img_list),total = len(img_list)):\n",
    "    try:\n",
    "        img = Image.open(img_path)\n",
    "        img.thumbnail((400,400),Image.ANTIALIAS)\n",
    "        img.save(\"./eva_test/Session17/face_images_merged/\" + \"img_\"f\"{i:03d}.jpeg\" ,'JPEG')\n",
    "    except Exception as e:\n",
    "        print(e,img_path)\n",
    "        os.remove(img_path)"
   ]
  }
 ],
 "metadata": {
  "file_extension": ".py",
  "kernelspec": {
   "display_name": "Python 3",
   "language": "python",
   "name": "python3"
  },
  "language_info": {
   "codemirror_mode": {
    "name": "ipython",
    "version": 3
   },
   "file_extension": ".py",
   "mimetype": "text/x-python",
   "name": "python",
   "nbconvert_exporter": "python",
   "pygments_lexer": "ipython3",
   "version": "3.6.8"
  },
  "mimetype": "text/x-python",
  "name": "python",
  "npconvert_exporter": "python",
  "pygments_lexer": "ipython3",
  "version": 3
 },
 "nbformat": 4,
 "nbformat_minor": 2
}
