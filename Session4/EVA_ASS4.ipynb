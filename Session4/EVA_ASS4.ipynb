{
 "cells": [
  {
   "cell_type": "markdown",
   "metadata": {
    "colab_type": "text",
    "id": "aNyZv-Ec52ot"
   },
   "source": [
    "# **Import Libraries and modules**"
   ]
  },
  {
   "cell_type": "code",
   "execution_count": 1,
   "metadata": {
    "ExecuteTime": {
     "end_time": "2019-08-14T17:56:39.559754Z",
     "start_time": "2019-08-14T17:56:39.553806Z"
    },
    "colab": {},
    "colab_type": "code",
    "id": "3m3w1Cw49Zkt"
   },
   "outputs": [],
   "source": [
    "# https://keras.io/\n"
   ]
  },
  {
   "cell_type": "code",
   "execution_count": 1,
   "metadata": {
    "ExecuteTime": {
     "end_time": "2019-08-14T18:23:17.672429Z",
     "start_time": "2019-08-14T18:23:15.813820Z"
    },
    "colab": {
     "base_uri": "https://localhost:8080/",
     "height": 34
    },
    "colab_type": "code",
    "id": "Eso6UHE080D4",
    "outputId": "f409d621-4f2e-4e66-db81-ac039bd2161b"
   },
   "outputs": [
    {
     "name": "stderr",
     "output_type": "stream",
     "text": [
      "Using TensorFlow backend.\n",
      "/home/pintu/.local/lib/python3.6/site-packages/requests/__init__.py:91: RequestsDependencyWarning: urllib3 (1.25.2) or chardet (3.0.4) doesn't match a supported version!\n",
      "  RequestsDependencyWarning)\n"
     ]
    }
   ],
   "source": [
    "# import dependencies\n",
    "\n",
    "import os\n",
    "import shutil\n",
    "\n",
    "import keras\n",
    "import numpy as np\n",
    "from keras.callbacks import LearningRateScheduler, ModelCheckpoint\n",
    "from keras.datasets import mnist\n",
    "from keras.layers import (Activation, Add, BatchNormalization, Convolution2D,\n",
    "                          Dense, Dropout, Flatten, MaxPooling2D)\n",
    "from keras.models import Sequential, load_model\n",
    "from keras.optimizers import Adam\n",
    "from keras.preprocessing.image import ImageDataGenerator\n",
    "from keras.utils import np_utils"
   ]
  },
  {
   "cell_type": "markdown",
   "metadata": {
    "colab_type": "text",
    "id": "zByEi95J86RD"
   },
   "source": [
    "### Load pre-shuffled MNIST data into train and test sets"
   ]
  },
  {
   "cell_type": "code",
   "execution_count": 2,
   "metadata": {
    "ExecuteTime": {
     "end_time": "2019-08-14T18:23:17.852414Z",
     "start_time": "2019-08-14T18:23:17.673883Z"
    },
    "colab": {
     "base_uri": "https://localhost:8080/",
     "height": 51
    },
    "colab_type": "code",
    "id": "7eRM0QWN83PV",
    "outputId": "11f2c2b0-15c2-4b17-b2c7-38a62d689031"
   },
   "outputs": [],
   "source": [
    "# load mnist data by keras api\n",
    "# This does all the preprocessing while loading the data\n",
    "\n",
    "(X_train, y_train), (X_test, y_test) = mnist.load_data()"
   ]
  },
  {
   "cell_type": "code",
   "execution_count": 3,
   "metadata": {
    "ExecuteTime": {
     "end_time": "2019-08-14T18:23:18.049038Z",
     "start_time": "2019-08-14T18:23:17.854014Z"
    },
    "colab": {
     "base_uri": "https://localhost:8080/",
     "height": 299
    },
    "colab_type": "code",
    "id": "4a4Be72j8-ZC",
    "outputId": "628a97c2-a516-4470-d2c8-b9f2e21ff451"
   },
   "outputs": [
    {
     "name": "stdout",
     "output_type": "stream",
     "text": [
      "(60000, 28, 28)\n"
     ]
    },
    {
     "data": {
      "text/plain": [
       "<matplotlib.image.AxesImage at 0x7f9d3aadc588>"
      ]
     },
     "execution_count": 3,
     "metadata": {},
     "output_type": "execute_result"
    },
    {
     "data": {
      "image/png": "[encoded data removed]",
      "text/plain": [
       "<Figure size 432x288 with 1 Axes>"
      ]
     },
     "metadata": {
      "needs_background": "light"
     },
     "output_type": "display_data"
    }
   ],
   "source": [
    "# pyplot is a python package used for plotting of images\n",
    "\n",
    "print (X_train.shape)\n",
    "from matplotlib import pyplot as plt\n",
    "%matplotlib inline\n",
    "plt.imshow(X_train[0])"
   ]
  },
  {
   "cell_type": "code",
   "execution_count": 4,
   "metadata": {
    "ExecuteTime": {
     "end_time": "2019-08-14T18:23:18.053540Z",
     "start_time": "2019-08-14T18:23:18.050445Z"
    },
    "colab": {},
    "colab_type": "code",
    "id": "dkmprriw9AnZ"
   },
   "outputs": [],
   "source": [
    "# reshaping train and test data to channel last format\n",
    "\n",
    "X_train = X_train.reshape(X_train.shape[0], 28, 28,1)\n",
    "X_test = X_test.reshape(X_test.shape[0], 28, 28,1)"
   ]
  },
  {
   "cell_type": "code",
   "execution_count": 5,
   "metadata": {
    "ExecuteTime": {
     "end_time": "2019-08-14T18:23:18.144762Z",
     "start_time": "2019-08-14T18:23:18.055111Z"
    },
    "colab": {},
    "colab_type": "code",
    "id": "X2m4YS4E9CRh"
   },
   "outputs": [],
   "source": [
    "# 32 floating point precision and normalizing \n",
    "\n",
    "X_train = X_train.astype('float32')\n",
    "X_test = X_test.astype('float32')\n",
    "X_train /= 255\n",
    "X_test /= 255"
   ]
  },
  {
   "cell_type": "code",
   "execution_count": 6,
   "metadata": {
    "ExecuteTime": {
     "end_time": "2019-08-14T18:23:18.148951Z",
     "start_time": "2019-08-14T18:23:18.146047Z"
    },
    "colab": {
     "base_uri": "https://localhost:8080/",
     "height": 34
    },
    "colab_type": "code",
    "id": "0Mn0vAYD9DvB",
    "outputId": "7449b5c2-b754-4de4-aca8-334c3e066f8e"
   },
   "outputs": [
    {
     "data": {
      "text/plain": [
       "array([5, 0, 4, 1, 9, 2, 1, 3, 1, 4], dtype=uint8)"
      ]
     },
     "execution_count": 6,
     "metadata": {},
     "output_type": "execute_result"
    }
   ],
   "source": [
    "y_train[:10]"
   ]
  },
  {
   "cell_type": "code",
   "execution_count": 7,
   "metadata": {
    "ExecuteTime": {
     "end_time": "2019-08-14T18:23:18.992493Z",
     "start_time": "2019-08-14T18:23:18.979833Z"
    },
    "colab": {},
    "colab_type": "code",
    "id": "ZG8JiXR39FHC"
   },
   "outputs": [],
   "source": [
    "# Convert 1-dimensional class arrays to 10-dimensional class matrices\n",
    "Y_train = np_utils.to_categorical(y_train, 10)\n",
    "Y_test = np_utils.to_categorical(y_test, 10)"
   ]
  },
  {
   "cell_type": "code",
   "execution_count": 8,
   "metadata": {
    "ExecuteTime": {
     "end_time": "2019-08-14T18:23:19.636427Z",
     "start_time": "2019-08-14T18:23:19.622970Z"
    },
    "colab": {
     "base_uri": "https://localhost:8080/",
     "height": 185
    },
    "colab_type": "code",
    "id": "fYlFRvKS9HMB",
    "outputId": "deedbf1d-34d3-46da-a810-917c84df506e"
   },
   "outputs": [
    {
     "data": {
      "text/plain": [
       "array([[0., 0., 0., 0., 0., 1., 0., 0., 0., 0.],\n",
       "       [1., 0., 0., 0., 0., 0., 0., 0., 0., 0.],\n",
       "       [0., 0., 0., 0., 1., 0., 0., 0., 0., 0.],\n",
       "       [0., 1., 0., 0., 0., 0., 0., 0., 0., 0.],\n",
       "       [0., 0., 0., 0., 0., 0., 0., 0., 0., 1.],\n",
       "       [0., 0., 1., 0., 0., 0., 0., 0., 0., 0.],\n",
       "       [0., 1., 0., 0., 0., 0., 0., 0., 0., 0.],\n",
       "       [0., 0., 0., 1., 0., 0., 0., 0., 0., 0.],\n",
       "       [0., 1., 0., 0., 0., 0., 0., 0., 0., 0.],\n",
       "       [0., 0., 0., 0., 1., 0., 0., 0., 0., 0.]], dtype=float32)"
      ]
     },
     "execution_count": 8,
     "metadata": {},
     "output_type": "execute_result"
    }
   ],
   "source": [
    "Y_train[:10]\n"
   ]
  },
  {
   "cell_type": "code",
   "execution_count": 9,
   "metadata": {
    "ExecuteTime": {
     "end_time": "2019-08-14T18:23:20.362398Z",
     "start_time": "2019-08-14T18:23:20.355795Z"
    },
    "colab": {},
    "colab_type": "code",
    "id": "AtsH-lLk-eLb"
   },
   "outputs": [],
   "source": [
    "# score = model.evaluate(X_test, Y_test, verbose=0)\n",
    "# print(score)\n",
    "# y_pred = model.predict(X_test)\n",
    "# print(y_pred[:9])\n",
    "# print(y_test[:9])"
   ]
  },
  {
   "cell_type": "code",
   "execution_count": null,
   "metadata": {
    "colab": {},
    "colab_type": "code",
    "id": "CT--y98_dr2T"
   },
   "outputs": [],
   "source": [
    "layer_dict = dict([(layer.name, layer) for layer in model.layers])"
   ]
  },
  {
   "cell_type": "code",
   "execution_count": null,
   "metadata": {
    "colab": {
     "base_uri": "https://localhost:8080/",
     "height": 839
    },
    "colab_type": "code",
    "id": "2GY4Upv4dsUR",
    "outputId": "3a2e0c8a-cafa-41dd-95af-a906d7d91393",
    "scrolled": true
   },
   "outputs": [],
   "source": [
    "import numpy as np\n",
    "from matplotlib import pyplot as plt\n",
    "from keras import backend as K\n",
    "%matplotlib inline\n",
    "# util function to convert a tensor into a valid image\n",
    "def deprocess_image(x):\n",
    "    # normalize tensor: center on 0., ensure std is 0.1\n",
    "    x -= x.mean()\n",
    "    x /= (x.std() + 1e-5)\n",
    "    x *= 0.1\n",
    "\n",
    "    # clip to [0, 1]\n",
    "    x += 0.5\n",
    "    x = np.clip(x, 0, 1)\n",
    "\n",
    "    # convert to RGB array\n",
    "    x *= 255\n",
    "    #x = x.transpose((1, 2, 0))\n",
    "    x = np.clip(x, 0, 255).astype('uint8')\n",
    "    return x\n",
    "\n",
    "def vis_img_in_filter(img = np.array(X_train[2]).reshape((1, 28, 28, 1)).astype(np.float64), \n",
    "                      layer_name = 'conv2d_14'):\n",
    "    layer_output = layer_dict[layer_name].output\n",
    "    img_ascs = list()\n",
    "    for filter_index in range(layer_output.shape[3]):\n",
    "        # build a loss function that maximizes the activation\n",
    "        # of the nth filter of the layer considered\n",
    "        loss = K.mean(layer_output[:, :, :, filter_index])\n",
    "\n",
    "        # compute the gradient of the input picture wrt this loss\n",
    "        grads = K.gradients(loss, model.input)[0]\n",
    "\n",
    "        # normalization trick: we normalize the gradient\n",
    "        grads /= (K.sqrt(K.mean(K.square(grads))) + 1e-5)\n",
    "\n",
    "        # this function returns the loss and grads given the input picture\n",
    "        iterate = K.function([model.input], [loss, grads])\n",
    "\n",
    "        # step size for gradient ascent\n",
    "        step = 5.\n",
    "\n",
    "        img_asc = np.array(img)\n",
    "        # run gradient ascent for 20 steps\n",
    "        for i in range(20):\n",
    "            loss_value, grads_value = iterate([img_asc])\n",
    "            img_asc += grads_value * step\n",
    "\n",
    "        img_asc = img_asc[0]\n",
    "        img_ascs.append(deprocess_image(img_asc).reshape((28, 28)))\n",
    "        \n",
    "    if layer_output.shape[3] >= 35:\n",
    "        plot_x, plot_y = 6, 6\n",
    "    elif layer_output.shape[3] >= 23:\n",
    "        plot_x, plot_y = 4, 6\n",
    "    elif layer_output.shape[3] >= 11:\n",
    "        plot_x, plot_y = 2, 6\n",
    "    else:\n",
    "        plot_x, plot_y = 1, 2\n",
    "    fig, ax = plt.subplots(plot_x, plot_y, figsize = (12, 12))\n",
    "    ax[0, 0].imshow(img.reshape((28, 28)), cmap = 'gray')\n",
    "    ax[0, 0].set_title('Input image')\n",
    "    fig.suptitle('Input image and %s filters' % (layer_name,))\n",
    "    fig.tight_layout(pad = 0.3, rect = [0, 0, 0.9, 0.9])\n",
    "    for (x, y) in [(i, j) for i in range(plot_x) for j in range(plot_y)]:\n",
    "        if x == 0 and y == 0:\n",
    "            continue\n",
    "        ax[x, y].imshow(img_ascs[x * plot_y + y - 1], cmap = 'gray')\n",
    "        ax[x, y].set_title('filter %d' % (x * plot_y + y - 1))\n",
    "\n",
    "vis_img_in_filter()"
   ]
  },
  {
   "cell_type": "code",
   "execution_count": 10,
   "metadata": {
    "ExecuteTime": {
     "end_time": "2019-08-14T18:23:29.342233Z",
     "start_time": "2019-08-14T18:23:29.322996Z"
    }
   },
   "outputs": [],
   "source": [
    "base_dir = os.getcwd()\n",
    "if os.path.exists(os.path.join(base_dir, 'test_results')):\n",
    "    shutil.rmtree(os.path.join(base_dir, 'test_results'))\n",
    "    os.mkdir(os.path.join(base_dir, 'test_results'))\n",
    "else:\n",
    "    os.mkdir(os.path.join(base_dir, 'test_results'))\n",
    "\n",
    "\n",
    "# model checkpoint\n",
    "filepath=\"/media/pintu/BACKUP/extra_projects/EVA/Session4/test_results/weights-improvement-{epoch:02d}-{val_acc:.4f}.hdf5\"\n",
    "checkpoint = ModelCheckpoint(filepath, monitor='val_acc', verbose=1, save_best_only=True, mode='max')\n",
    "\n",
    "# learning rate schedular\n",
    "def scheduler(epoch,lr):\n",
    "    return round(0.003 * 1/(1 + 0.319 * epoch), 10)\n",
    "lr_sch = LearningRateScheduler(scheduler)\n",
    "\n",
    "# callback list,should be called from model.fit\n",
    "callbacks_list = [checkpoint]\n",
    "\n",
    "\n",
    "# data augmentation\n",
    "\n",
    "gen = ImageDataGenerator(rotation_range=8, width_shift_range=0.08, shear_range=0.3,\n",
    "                         height_shift_range=0.08, zoom_range=0.08)\n",
    "\n",
    "test_gen = ImageDataGenerator()\n",
    "\n",
    "train_generator = gen.flow(X_train, Y_train, batch_size=64)\n",
    "test_generator = test_gen.flow(X_test, Y_test, batch_size=64)"
   ]
  },
  {
   "cell_type": "markdown",
   "metadata": {},
   "source": [
    "## 1st code block"
   ]
  },
  {
   "cell_type": "markdown",
   "metadata": {},
   "source": [
    "This block has the base architecture (no BN, DropOut, LR, larger batch size, change in Optimizer, etc)\n",
    "\n",
    "total num params 13,546\n",
    "\n",
    "val_acc becomes 0.99000"
   ]
  },
  {
   "cell_type": "code",
   "execution_count": 10,
   "metadata": {
    "ExecuteTime": {
     "end_time": "2019-08-14T18:21:50.451769Z",
     "start_time": "2019-08-14T18:21:50.321774Z"
    }
   },
   "outputs": [
    {
     "name": "stdout",
     "output_type": "stream",
     "text": [
      "WARNING:tensorflow:From /usr/lib/python3/dist-packages/tensorflow/python/framework/op_def_library.py:263: colocate_with (from tensorflow.python.framework.ops) is deprecated and will be removed in a future version.\n",
      "Instructions for updating:\n",
      "Colocations handled automatically by placer.\n",
      "_________________________________________________________________\n",
      "Layer (type)                 Output Shape              Param #   \n",
      "=================================================================\n",
      "conv2d_1 (Conv2D)            (None, 26, 26, 32)        320       \n",
      "_________________________________________________________________\n",
      "conv2d_2 (Conv2D)            (None, 26, 26, 16)        528       \n",
      "_________________________________________________________________\n",
      "max_pooling2d_1 (MaxPooling2 (None, 13, 13, 16)        0         \n",
      "_________________________________________________________________\n",
      "conv2d_3 (Conv2D)            (None, 11, 11, 32)        4640      \n",
      "_________________________________________________________________\n",
      "conv2d_4 (Conv2D)            (None, 11, 11, 16)        528       \n",
      "_________________________________________________________________\n",
      "max_pooling2d_2 (MaxPooling2 (None, 5, 5, 16)          0         \n",
      "_________________________________________________________________\n",
      "conv2d_5 (Conv2D)            (None, 3, 3, 32)          4640      \n",
      "_________________________________________________________________\n",
      "flatten_1 (Flatten)          (None, 288)               0         \n",
      "_________________________________________________________________\n",
      "dense_1 (Dense)              (None, 10)                2890      \n",
      "_________________________________________________________________\n",
      "activation_1 (Activation)    (None, 10)                0         \n",
      "=================================================================\n",
      "Total params: 13,546\n",
      "Trainable params: 13,546\n",
      "Non-trainable params: 0\n",
      "_________________________________________________________________\n"
     ]
    },
    {
     "name": "stderr",
     "output_type": "stream",
     "text": [
      "/home/pintu/.local/lib/python3.6/site-packages/ipykernel_launcher.py:5: UserWarning: Update your `Conv2D` call to the Keras 2 API: `Conv2D(32, (3, 3), activation=\"relu\", input_shape=(28, 28, 1...)`\n",
      "  \"\"\"\n",
      "/home/pintu/.local/lib/python3.6/site-packages/ipykernel_launcher.py:13: UserWarning: Update your `Conv2D` call to the Keras 2 API: `Conv2D(32, (3, 3), activation=\"relu\")`\n",
      "  del sys.path[0]\n",
      "/home/pintu/.local/lib/python3.6/site-packages/ipykernel_launcher.py:19: UserWarning: Update your `Conv2D` call to the Keras 2 API: `Conv2D(32, (3, 3), activation=\"relu\")`\n"
     ]
    }
   ],
   "source": [
    "# Base architecture (no BN, DropOut, LR, larger batch size, change in Optimizer, etc)\n",
    "model = Sequential()\n",
    "\n",
    "# input = 28,28,1, output = 26, 26, 32 , receptive field = 3\n",
    "model.add(Convolution2D(32, 3, 3, activation='relu', input_shape=(28,28,1))) \n",
    "\n",
    "# input =  26, 26, 32 output = 26, 26, 16 , receptive field = 3\n",
    "model.add(Convolution2D(16,1,activation='relu'))\n",
    "#receptive field = 6\n",
    "model.add(MaxPooling2D(pool_size=(2, 2)))\n",
    "\n",
    "# input =  13, 13, 16 output = 11, 11, 32 , receptive field = 8\n",
    "model.add(Convolution2D(32, 3, 3, activation='relu'))\n",
    "# input =  11, 11, 32 output = 11, 11, 16 , receptive field = 8\n",
    "model.add(Convolution2D(16,1, activation='relu'))\n",
    "#receptive field = 16\n",
    "model.add(MaxPooling2D(pool_size=(2, 2)))\n",
    "# input =  5, 5, 16 output = 3, 3, 32 , receptive field = 18\n",
    "model.add(Convolution2D(32, 3, 3, activation='relu'))\n",
    "\n",
    "model.add(Flatten())\n",
    "model.add(Dense(10))\n",
    "model.add(Activation('softmax'))\n",
    "model.summary()"
   ]
  },
  {
   "cell_type": "code",
   "execution_count": 14,
   "metadata": {
    "ExecuteTime": {
     "end_time": "2019-08-14T17:49:20.973561Z",
     "start_time": "2019-08-14T17:48:02.471085Z"
    }
   },
   "outputs": [
    {
     "name": "stderr",
     "output_type": "stream",
     "text": [
      "/home/pintu/.local/lib/python3.6/site-packages/ipykernel_launcher.py:4: UserWarning: The `nb_epoch` argument in `fit` has been renamed `epochs`.\n",
      "  after removing the cwd from sys.path.\n"
     ]
    },
    {
     "name": "stdout",
     "output_type": "stream",
     "text": [
      "Train on 60000 samples, validate on 10000 samples\n",
      "Epoch 1/15\n",
      "60000/60000 [==============================] - 5s 86us/step - loss: 0.0797 - acc: 0.9749 - val_loss: 0.0512 - val_acc: 0.9839\n",
      "\n",
      "Epoch 00001: val_acc improved from -inf to 0.98390, saving model to /media/pintu/BACKUP/extra_projects/EVA/Session4/test_results/weights-improvement-01-0.9839.hdf5\n",
      "Epoch 2/15\n",
      "60000/60000 [==============================] - 5s 87us/step - loss: 0.0532 - acc: 0.9839 - val_loss: 0.0532 - val_acc: 0.9837\n",
      "\n",
      "Epoch 00002: val_acc did not improve from 0.98390\n",
      "Epoch 3/15\n",
      "60000/60000 [==============================] - 5s 83us/step - loss: 0.0435 - acc: 0.9863 - val_loss: 0.0435 - val_acc: 0.9868\n",
      "\n",
      "Epoch 00003: val_acc improved from 0.98390 to 0.98680, saving model to /media/pintu/BACKUP/extra_projects/EVA/Session4/test_results/weights-improvement-03-0.9868.hdf5\n",
      "Epoch 4/15\n",
      "60000/60000 [==============================] - 5s 83us/step - loss: 0.0363 - acc: 0.9887 - val_loss: 0.0501 - val_acc: 0.9856\n",
      "\n",
      "Epoch 00004: val_acc did not improve from 0.98680\n",
      "Epoch 5/15\n",
      "60000/60000 [==============================] - 5s 82us/step - loss: 0.0348 - acc: 0.9895 - val_loss: 0.0474 - val_acc: 0.9852\n",
      "\n",
      "Epoch 00005: val_acc did not improve from 0.98680\n",
      "Epoch 6/15\n",
      "60000/60000 [==============================] - 5s 84us/step - loss: 0.0311 - acc: 0.9901 - val_loss: 0.0385 - val_acc: 0.9878\n",
      "\n",
      "Epoch 00006: val_acc improved from 0.98680 to 0.98780, saving model to /media/pintu/BACKUP/extra_projects/EVA/Session4/test_results/weights-improvement-06-0.9878.hdf5\n",
      "Epoch 7/15\n",
      "60000/60000 [==============================] - 5s 85us/step - loss: 0.0294 - acc: 0.9903 - val_loss: 0.0497 - val_acc: 0.9853\n",
      "\n",
      "Epoch 00007: val_acc did not improve from 0.98780\n",
      "Epoch 8/15\n",
      "60000/60000 [==============================] - 5s 90us/step - loss: 0.0264 - acc: 0.9913 - val_loss: 0.0386 - val_acc: 0.9884\n",
      "\n",
      "Epoch 00008: val_acc improved from 0.98780 to 0.98840, saving model to /media/pintu/BACKUP/extra_projects/EVA/Session4/test_results/weights-improvement-08-0.9884.hdf5\n",
      "Epoch 9/15\n",
      "60000/60000 [==============================] - 5s 89us/step - loss: 0.0253 - acc: 0.9918 - val_loss: 0.0478 - val_acc: 0.9863\n",
      "\n",
      "Epoch 00009: val_acc did not improve from 0.98840\n",
      "Epoch 10/15\n",
      "60000/60000 [==============================] - 5s 87us/step - loss: 0.0261 - acc: 0.9920 - val_loss: 0.0480 - val_acc: 0.9867\n",
      "\n",
      "Epoch 00010: val_acc did not improve from 0.98840\n",
      "Epoch 11/15\n",
      "60000/60000 [==============================] - 5s 86us/step - loss: 0.0222 - acc: 0.9931 - val_loss: 0.0388 - val_acc: 0.9879\n",
      "\n",
      "Epoch 00011: val_acc did not improve from 0.98840\n",
      "Epoch 12/15\n",
      "60000/60000 [==============================] - 5s 87us/step - loss: 0.0221 - acc: 0.9929 - val_loss: 0.0393 - val_acc: 0.9886\n",
      "\n",
      "Epoch 00012: val_acc improved from 0.98840 to 0.98860, saving model to /media/pintu/BACKUP/extra_projects/EVA/Session4/test_results/weights-improvement-12-0.9886.hdf5\n",
      "Epoch 13/15\n",
      "60000/60000 [==============================] - 5s 91us/step - loss: 0.0224 - acc: 0.9931 - val_loss: 0.0562 - val_acc: 0.9845\n",
      "\n",
      "Epoch 00013: val_acc did not improve from 0.98860\n",
      "Epoch 14/15\n",
      "60000/60000 [==============================] - 5s 89us/step - loss: 0.0206 - acc: 0.9933 - val_loss: 0.0433 - val_acc: 0.9900\n",
      "\n",
      "Epoch 00014: val_acc improved from 0.98860 to 0.99000, saving model to /media/pintu/BACKUP/extra_projects/EVA/Session4/test_results/weights-improvement-14-0.9900.hdf5\n",
      "Epoch 15/15\n",
      "60000/60000 [==============================] - 5s 89us/step - loss: 0.0206 - acc: 0.9933 - val_loss: 0.0464 - val_acc: 0.9886\n",
      "\n",
      "Epoch 00015: val_acc did not improve from 0.99000\n"
     ]
    },
    {
     "data": {
      "text/plain": [
       "<keras.callbacks.History at 0x7fda72aa7e10>"
      ]
     },
     "execution_count": 14,
     "metadata": {},
     "output_type": "execute_result"
    }
   ],
   "source": [
    "# loss function is categorical_crossentropy, based on loss function the weights are updated\n",
    "# metric is used to judge the performance of the model after each epoch. Here we are using categorical_accuracy as metric, \n",
    "# before running we need to compile the model\n",
    "# adam is a optimization algorithm which is used for weight updates\n",
    "\n",
    "\n",
    "model.compile(loss='categorical_crossentropy',\n",
    "             optimizer=Adam(lr = 0.003),\n",
    "             metrics=['accuracy'])\n",
    "model.fit(X_train, Y_train, batch_size=32, nb_epoch=15, verbose=1 , validation_data=(X_test, Y_test),callbacks=callbacks_list)"
   ]
  },
  {
   "cell_type": "markdown",
   "metadata": {
    "ExecuteTime": {
     "end_time": "2019-08-14T15:46:13.819710Z",
     "start_time": "2019-08-14T15:46:13.337801Z"
    }
   },
   "source": [
    "\n",
    "Results:\n",
    "    \n",
    "So model did not have a accuracy more than 0.99000 \n",
    "\n",
    "Model is overfitting. So lets add dropout."
   ]
  },
  {
   "cell_type": "markdown",
   "metadata": {},
   "source": [
    "# 2nd code block"
   ]
  },
  {
   "cell_type": "markdown",
   "metadata": {},
   "source": [
    "base architecture + dropout added\n",
    "\n",
    "adding extra - dropout\n",
    "\n",
    "total num params 13,546\n",
    "\n",
    "val_acc becomes 0.99010"
   ]
  },
  {
   "cell_type": "code",
   "execution_count": 11,
   "metadata": {
    "ExecuteTime": {
     "end_time": "2019-08-14T17:51:35.652528Z",
     "start_time": "2019-08-14T17:51:35.494191Z"
    }
   },
   "outputs": [
    {
     "name": "stdout",
     "output_type": "stream",
     "text": [
      "WARNING:tensorflow:From /usr/lib/python3/dist-packages/tensorflow/python/framework/op_def_library.py:263: colocate_with (from tensorflow.python.framework.ops) is deprecated and will be removed in a future version.\n",
      "Instructions for updating:\n",
      "Colocations handled automatically by placer.\n",
      "WARNING:tensorflow:From /home/pintu/.local/lib/python3.6/site-packages/keras/backend/tensorflow_backend.py:3445: calling dropout (from tensorflow.python.ops.nn_ops) with keep_prob is deprecated and will be removed in a future version.\n",
      "Instructions for updating:\n",
      "Please use `rate` instead of `keep_prob`. Rate should be set to `rate = 1 - keep_prob`.\n",
      "_________________________________________________________________\n",
      "Layer (type)                 Output Shape              Param #   \n",
      "=================================================================\n",
      "conv2d_1 (Conv2D)            (None, 26, 26, 32)        320       \n",
      "_________________________________________________________________\n",
      "dropout_1 (Dropout)          (None, 26, 26, 32)        0         \n",
      "_________________________________________________________________\n",
      "conv2d_2 (Conv2D)            (None, 26, 26, 16)        528       \n",
      "_________________________________________________________________\n",
      "max_pooling2d_1 (MaxPooling2 (None, 13, 13, 16)        0         \n",
      "_________________________________________________________________\n",
      "conv2d_3 (Conv2D)            (None, 11, 11, 32)        4640      \n",
      "_________________________________________________________________\n",
      "dropout_2 (Dropout)          (None, 11, 11, 32)        0         \n",
      "_________________________________________________________________\n",
      "conv2d_4 (Conv2D)            (None, 11, 11, 16)        528       \n",
      "_________________________________________________________________\n",
      "max_pooling2d_2 (MaxPooling2 (None, 5, 5, 16)          0         \n",
      "_________________________________________________________________\n",
      "conv2d_5 (Conv2D)            (None, 3, 3, 32)          4640      \n",
      "_________________________________________________________________\n",
      "dropout_3 (Dropout)          (None, 3, 3, 32)          0         \n",
      "_________________________________________________________________\n",
      "flatten_1 (Flatten)          (None, 288)               0         \n",
      "_________________________________________________________________\n",
      "dense_1 (Dense)              (None, 10)                2890      \n",
      "_________________________________________________________________\n",
      "activation_1 (Activation)    (None, 10)                0         \n",
      "=================================================================\n",
      "Total params: 13,546\n",
      "Trainable params: 13,546\n",
      "Non-trainable params: 0\n",
      "_________________________________________________________________\n"
     ]
    },
    {
     "name": "stderr",
     "output_type": "stream",
     "text": [
      "/home/pintu/.local/lib/python3.6/site-packages/ipykernel_launcher.py:5: UserWarning: Update your `Conv2D` call to the Keras 2 API: `Conv2D(32, (3, 3), activation=\"relu\", input_shape=(28, 28, 1...)`\n",
      "  \"\"\"\n",
      "/home/pintu/.local/lib/python3.6/site-packages/ipykernel_launcher.py:13: UserWarning: Update your `Conv2D` call to the Keras 2 API: `Conv2D(32, (3, 3), activation=\"relu\")`\n",
      "  del sys.path[0]\n",
      "/home/pintu/.local/lib/python3.6/site-packages/ipykernel_launcher.py:20: UserWarning: Update your `Conv2D` call to the Keras 2 API: `Conv2D(32, (3, 3), activation=\"relu\")`\n"
     ]
    }
   ],
   "source": [
    "# Base architecture (no BN, DropOut, LR, larger batch size, change in Optimizer, etc)\n",
    "model = Sequential()\n",
    "\n",
    "# input = 28,28,1, output = 26, 26, 32 , receptive field = 3\n",
    "model.add(Convolution2D(32, 3, 3, activation='relu', input_shape=(28,28,1))) \n",
    "model.add(Dropout(0.1))\n",
    "# input =  26, 26, 32 output = 26, 26, 16 , receptive field = 3\n",
    "model.add(Convolution2D(16,1,activation='relu'))\n",
    "#receptive field = 6\n",
    "model.add(MaxPooling2D(pool_size=(2, 2)))\n",
    "\n",
    "# input =  13, 13, 16 output = 11, 11, 32 , receptive field = 8\n",
    "model.add(Convolution2D(32, 3, 3, activation='relu'))\n",
    "model.add(Dropout(0.1))\n",
    "# input =  11, 11, 32 output = 11, 11, 16 , receptive field = 8\n",
    "model.add(Convolution2D(16,1, activation='relu'))\n",
    "#receptive field = 16\n",
    "model.add(MaxPooling2D(pool_size=(2, 2)))\n",
    "# input =  5, 5, 16 output = 3, 3, 32 , receptive field = 18\n",
    "model.add(Convolution2D(32, 3, 3, activation='relu'))\n",
    "model.add(Dropout(0.1))\n",
    "\n",
    "model.add(Flatten())\n",
    "model.add(Dense(10))\n",
    "model.add(Activation('softmax'))\n",
    "model.summary()"
   ]
  },
  {
   "cell_type": "code",
   "execution_count": 12,
   "metadata": {
    "ExecuteTime": {
     "end_time": "2019-08-14T17:54:13.075830Z",
     "start_time": "2019-08-14T17:52:11.441662Z"
    }
   },
   "outputs": [
    {
     "name": "stdout",
     "output_type": "stream",
     "text": [
      "WARNING:tensorflow:From /usr/lib/python3/dist-packages/tensorflow/python/ops/math_ops.py:3066: to_int32 (from tensorflow.python.ops.math_ops) is deprecated and will be removed in a future version.\n",
      "Instructions for updating:\n",
      "Use tf.cast instead.\n"
     ]
    },
    {
     "name": "stderr",
     "output_type": "stream",
     "text": [
      "/home/pintu/.local/lib/python3.6/site-packages/ipykernel_launcher.py:5: UserWarning: The `nb_epoch` argument in `fit` has been renamed `epochs`.\n",
      "  \"\"\"\n"
     ]
    },
    {
     "name": "stdout",
     "output_type": "stream",
     "text": [
      "Train on 60000 samples, validate on 10000 samples\n",
      "Epoch 1/20\n",
      "60000/60000 [==============================] - 8s 127us/step - loss: 0.1923 - acc: 0.9392 - val_loss: 0.0802 - val_acc: 0.9742\n",
      "\n",
      "Epoch 00001: val_acc improved from -inf to 0.97420, saving model to /media/pintu/BACKUP/extra_projects/EVA/Session4/test_results/weights-improvement-01-0.9742.hdf5\n",
      "Epoch 2/20\n",
      "60000/60000 [==============================] - 6s 98us/step - loss: 0.0770 - acc: 0.9762 - val_loss: 0.0490 - val_acc: 0.9849\n",
      "\n",
      "Epoch 00002: val_acc improved from 0.97420 to 0.98490, saving model to /media/pintu/BACKUP/extra_projects/EVA/Session4/test_results/weights-improvement-02-0.9849.hdf5\n",
      "Epoch 3/20\n",
      "60000/60000 [==============================] - 6s 98us/step - loss: 0.0614 - acc: 0.9813 - val_loss: 0.0444 - val_acc: 0.9869\n",
      "\n",
      "Epoch 00003: val_acc improved from 0.98490 to 0.98690, saving model to /media/pintu/BACKUP/extra_projects/EVA/Session4/test_results/weights-improvement-03-0.9869.hdf5\n",
      "Epoch 4/20\n",
      "60000/60000 [==============================] - 6s 98us/step - loss: 0.0555 - acc: 0.9829 - val_loss: 0.0411 - val_acc: 0.9869\n",
      "\n",
      "Epoch 00004: val_acc did not improve from 0.98690\n",
      "Epoch 5/20\n",
      "60000/60000 [==============================] - 6s 98us/step - loss: 0.0502 - acc: 0.9841 - val_loss: 0.0487 - val_acc: 0.9855\n",
      "\n",
      "Epoch 00005: val_acc did not improve from 0.98690\n",
      "Epoch 6/20\n",
      "60000/60000 [==============================] - 6s 101us/step - loss: 0.0471 - acc: 0.9850 - val_loss: 0.0342 - val_acc: 0.9897\n",
      "\n",
      "Epoch 00006: val_acc improved from 0.98690 to 0.98970, saving model to /media/pintu/BACKUP/extra_projects/EVA/Session4/test_results/weights-improvement-06-0.9897.hdf5\n",
      "Epoch 7/20\n",
      "60000/60000 [==============================] - 6s 99us/step - loss: 0.0428 - acc: 0.9864 - val_loss: 0.0432 - val_acc: 0.9858\n",
      "\n",
      "Epoch 00007: val_acc did not improve from 0.98970\n",
      "Epoch 8/20\n",
      "60000/60000 [==============================] - 6s 100us/step - loss: 0.0439 - acc: 0.9861 - val_loss: 0.0365 - val_acc: 0.9886\n",
      "\n",
      "Epoch 00008: val_acc did not improve from 0.98970\n",
      "Epoch 9/20\n",
      "60000/60000 [==============================] - 6s 100us/step - loss: 0.0412 - acc: 0.9868 - val_loss: 0.0358 - val_acc: 0.9885\n",
      "\n",
      "Epoch 00009: val_acc did not improve from 0.98970\n",
      "Epoch 10/20\n",
      "60000/60000 [==============================] - 6s 100us/step - loss: 0.0383 - acc: 0.9877 - val_loss: 0.0355 - val_acc: 0.9893\n",
      "\n",
      "Epoch 00010: val_acc did not improve from 0.98970\n",
      "Epoch 11/20\n",
      "60000/60000 [==============================] - 6s 106us/step - loss: 0.0382 - acc: 0.9878 - val_loss: 0.0339 - val_acc: 0.9901\n",
      "\n",
      "Epoch 00011: val_acc improved from 0.98970 to 0.99010, saving model to /media/pintu/BACKUP/extra_projects/EVA/Session4/test_results/weights-improvement-11-0.9901.hdf5\n",
      "Epoch 12/20\n",
      "60000/60000 [==============================] - 6s 102us/step - loss: 0.0371 - acc: 0.9879 - val_loss: 0.0416 - val_acc: 0.9882\n",
      "\n",
      "Epoch 00012: val_acc did not improve from 0.99010\n",
      "Epoch 13/20\n",
      "60000/60000 [==============================] - 6s 99us/step - loss: 0.0361 - acc: 0.9884 - val_loss: 0.0357 - val_acc: 0.9892\n",
      "\n",
      "Epoch 00013: val_acc did not improve from 0.99010\n",
      "Epoch 14/20\n",
      "60000/60000 [==============================] - 6s 101us/step - loss: 0.0361 - acc: 0.9883 - val_loss: 0.0364 - val_acc: 0.9878\n",
      "\n",
      "Epoch 00014: val_acc did not improve from 0.99010\n",
      "Epoch 15/20\n",
      "60000/60000 [==============================] - 6s 101us/step - loss: 0.0374 - acc: 0.9878 - val_loss: 0.0341 - val_acc: 0.9898\n",
      "\n",
      "Epoch 00015: val_acc did not improve from 0.99010\n",
      "Epoch 16/20\n",
      "60000/60000 [==============================] - 6s 100us/step - loss: 0.0343 - acc: 0.9890 - val_loss: 0.0366 - val_acc: 0.9890\n",
      "\n",
      "Epoch 00016: val_acc did not improve from 0.99010\n",
      "Epoch 17/20\n",
      "60000/60000 [==============================] - 6s 99us/step - loss: 0.0363 - acc: 0.9888 - val_loss: 0.0412 - val_acc: 0.9886\n",
      "\n",
      "Epoch 00017: val_acc did not improve from 0.99010\n",
      "Epoch 18/20\n",
      "60000/60000 [==============================] - 6s 100us/step - loss: 0.0336 - acc: 0.9893 - val_loss: 0.0371 - val_acc: 0.9884\n",
      "\n",
      "Epoch 00018: val_acc did not improve from 0.99010\n",
      "Epoch 19/20\n",
      "60000/60000 [==============================] - 6s 95us/step - loss: 0.0348 - acc: 0.9894 - val_loss: 0.0373 - val_acc: 0.9887\n",
      "\n",
      "Epoch 00019: val_acc did not improve from 0.99010\n",
      "Epoch 20/20\n",
      "60000/60000 [==============================] - 6s 96us/step - loss: 0.0336 - acc: 0.9889 - val_loss: 0.0348 - val_acc: 0.9897\n",
      "\n",
      "Epoch 00020: val_acc did not improve from 0.99010\n"
     ]
    },
    {
     "data": {
      "text/plain": [
       "<keras.callbacks.History at 0x7f511b67a358>"
      ]
     },
     "execution_count": 12,
     "metadata": {},
     "output_type": "execute_result"
    }
   ],
   "source": [
    "model.compile(loss='categorical_crossentropy',\n",
    "             optimizer=Adam(lr = 0.003),\n",
    "             metrics=['accuracy'])\n",
    "\n",
    "model.fit(X_train, Y_train, batch_size=32, nb_epoch=20, verbose=1 , validation_data=(X_test, Y_test),callbacks=callbacks_list)"
   ]
  },
  {
   "cell_type": "markdown",
   "metadata": {
    "ExecuteTime": {
     "end_time": "2019-08-14T16:10:21.058050Z",
     "start_time": "2019-08-14T16:10:21.051688Z"
    }
   },
   "source": [
    "Results:\n",
    "\n",
    "val_acc is 0.99010\n",
    "\n",
    "Now after adding dropout the overfitting problem is solved\n",
    "\n",
    "let's add batch norm to increase the accuracy "
   ]
  },
  {
   "cell_type": "markdown",
   "metadata": {},
   "source": [
    "# 3rd code block"
   ]
  },
  {
   "cell_type": "markdown",
   "metadata": {},
   "source": [
    "base network + dropout + Batch norm\n",
    "\n",
    "adding extra - Batch norm\n",
    "\n",
    "total num params 14,058(BN adds extra non trainable params,trainable params remain same)\n",
    "\n",
    "val_acc becomes 0.99290"
   ]
  },
  {
   "cell_type": "code",
   "execution_count": 12,
   "metadata": {
    "ExecuteTime": {
     "end_time": "2019-08-14T17:57:11.074967Z",
     "start_time": "2019-08-14T17:57:10.159727Z"
    }
   },
   "outputs": [
    {
     "name": "stdout",
     "output_type": "stream",
     "text": [
      "WARNING:tensorflow:From /usr/lib/python3/dist-packages/tensorflow/python/framework/op_def_library.py:263: colocate_with (from tensorflow.python.framework.ops) is deprecated and will be removed in a future version.\n",
      "Instructions for updating:\n",
      "Colocations handled automatically by placer.\n"
     ]
    },
    {
     "name": "stderr",
     "output_type": "stream",
     "text": [
      "/home/pintu/.local/lib/python3.6/site-packages/ipykernel_launcher.py:5: UserWarning: Update your `Conv2D` call to the Keras 2 API: `Conv2D(32, (3, 3), activation=\"relu\", input_shape=(28, 28, 1...)`\n",
      "  \"\"\"\n"
     ]
    },
    {
     "name": "stdout",
     "output_type": "stream",
     "text": [
      "WARNING:tensorflow:From /home/pintu/.local/lib/python3.6/site-packages/keras/backend/tensorflow_backend.py:3445: calling dropout (from tensorflow.python.ops.nn_ops) with keep_prob is deprecated and will be removed in a future version.\n",
      "Instructions for updating:\n",
      "Please use `rate` instead of `keep_prob`. Rate should be set to `rate = 1 - keep_prob`.\n",
      "_________________________________________________________________\n",
      "Layer (type)                 Output Shape              Param #   \n",
      "=================================================================\n",
      "conv2d_1 (Conv2D)            (None, 26, 26, 32)        320       \n",
      "_________________________________________________________________\n",
      "batch_normalization_1 (Batch (None, 26, 26, 32)        128       \n",
      "_________________________________________________________________\n",
      "dropout_1 (Dropout)          (None, 26, 26, 32)        0         \n",
      "_________________________________________________________________\n",
      "conv2d_2 (Conv2D)            (None, 26, 26, 16)        528       \n",
      "_________________________________________________________________\n",
      "batch_normalization_2 (Batch (None, 26, 26, 16)        64        \n",
      "_________________________________________________________________\n",
      "max_pooling2d_1 (MaxPooling2 (None, 13, 13, 16)        0         \n",
      "_________________________________________________________________\n",
      "conv2d_3 (Conv2D)            (None, 11, 11, 32)        4640      \n",
      "_________________________________________________________________\n",
      "batch_normalization_3 (Batch (None, 11, 11, 32)        128       \n",
      "_________________________________________________________________\n",
      "dropout_2 (Dropout)          (None, 11, 11, 32)        0         \n",
      "_________________________________________________________________\n",
      "conv2d_4 (Conv2D)            (None, 11, 11, 16)        528       \n",
      "_________________________________________________________________\n",
      "batch_normalization_4 (Batch (None, 11, 11, 16)        64        \n",
      "_________________________________________________________________\n",
      "max_pooling2d_2 (MaxPooling2 (None, 5, 5, 16)          0         \n",
      "_________________________________________________________________\n",
      "conv2d_5 (Conv2D)            (None, 3, 3, 32)          4640      \n",
      "_________________________________________________________________\n",
      "batch_normalization_5 (Batch (None, 3, 3, 32)          128       \n",
      "_________________________________________________________________\n",
      "dropout_3 (Dropout)          (None, 3, 3, 32)          0         \n",
      "_________________________________________________________________\n",
      "flatten_1 (Flatten)          (None, 288)               0         \n",
      "_________________________________________________________________\n",
      "dense_1 (Dense)              (None, 10)                2890      \n",
      "_________________________________________________________________\n",
      "activation_1 (Activation)    (None, 10)                0         \n",
      "=================================================================\n",
      "Total params: 14,058\n",
      "Trainable params: 13,802\n",
      "Non-trainable params: 256\n",
      "_________________________________________________________________\n"
     ]
    },
    {
     "name": "stderr",
     "output_type": "stream",
     "text": [
      "/home/pintu/.local/lib/python3.6/site-packages/ipykernel_launcher.py:15: UserWarning: Update your `Conv2D` call to the Keras 2 API: `Conv2D(32, (3, 3), activation=\"relu\")`\n",
      "  from ipykernel import kernelapp as app\n",
      "/home/pintu/.local/lib/python3.6/site-packages/ipykernel_launcher.py:24: UserWarning: Update your `Conv2D` call to the Keras 2 API: `Conv2D(32, (3, 3), activation=\"relu\")`\n"
     ]
    }
   ],
   "source": [
    "# Base architecture (no BN, DropOut, LR, larger batch size, change in Optimizer, etc)\n",
    "model = Sequential()\n",
    "\n",
    "# input = 28,28,1, output = 26, 26, 32 , receptive field = 3\n",
    "model.add(Convolution2D(32, 3, 3, activation='relu', input_shape=(28,28,1))) \n",
    "model.add(BatchNormalization())\n",
    "model.add(Dropout(0.1))\n",
    "# input =  26, 26, 32 output = 26, 26, 16 , receptive field = 3\n",
    "model.add(Convolution2D(16,1,activation='relu'))\n",
    "model.add(BatchNormalization())\n",
    "#receptive field = 6\n",
    "model.add(MaxPooling2D(pool_size=(2, 2)))\n",
    "\n",
    "# input =  13, 13, 16 output = 11, 11, 32 , receptive field = 8\n",
    "model.add(Convolution2D(32, 3, 3, activation='relu'))\n",
    "model.add(BatchNormalization())\n",
    "model.add(Dropout(0.1))\n",
    "# input =  11, 11, 32 output = 11, 11, 16 , receptive field = 8\n",
    "model.add(Convolution2D(16,1, activation='relu'))\n",
    "model.add(BatchNormalization())\n",
    "#receptive field = 16\n",
    "model.add(MaxPooling2D(pool_size=(2, 2)))\n",
    "# input =  5, 5, 16 output = 3, 3, 32 , receptive field = 18\n",
    "model.add(Convolution2D(32, 3, 3, activation='relu'))\n",
    "model.add(BatchNormalization())\n",
    "model.add(Dropout(0.1))\n",
    "\n",
    "model.add(Flatten())\n",
    "model.add(Dense(10))\n",
    "model.add(Activation('softmax'))\n",
    "model.summary()"
   ]
  },
  {
   "cell_type": "code",
   "execution_count": 13,
   "metadata": {
    "ExecuteTime": {
     "end_time": "2019-08-14T17:59:46.804191Z",
     "start_time": "2019-08-14T17:57:28.850060Z"
    },
    "scrolled": true
   },
   "outputs": [
    {
     "name": "stdout",
     "output_type": "stream",
     "text": [
      "WARNING:tensorflow:From /usr/lib/python3/dist-packages/tensorflow/python/ops/math_ops.py:3066: to_int32 (from tensorflow.python.ops.math_ops) is deprecated and will be removed in a future version.\n",
      "Instructions for updating:\n",
      "Use tf.cast instead.\n"
     ]
    },
    {
     "name": "stderr",
     "output_type": "stream",
     "text": [
      "/home/pintu/.local/lib/python3.6/site-packages/ipykernel_launcher.py:5: UserWarning: The `nb_epoch` argument in `fit` has been renamed `epochs`.\n",
      "  \"\"\"\n"
     ]
    },
    {
     "name": "stdout",
     "output_type": "stream",
     "text": [
      "Train on 60000 samples, validate on 10000 samples\n",
      "Epoch 1/15\n",
      "60000/60000 [==============================] - 10s 170us/step - loss: 0.1208 - acc: 0.9619 - val_loss: 0.0575 - val_acc: 0.9811\n",
      "\n",
      "Epoch 00001: val_acc improved from -inf to 0.98110, saving model to /media/pintu/BACKUP/extra_projects/EVA/Session4/test_results/weights-improvement-01-0.9811.hdf5\n",
      "Epoch 2/15\n",
      "60000/60000 [==============================] - 9s 153us/step - loss: 0.0570 - acc: 0.9823 - val_loss: 0.0385 - val_acc: 0.9873\n",
      "\n",
      "Epoch 00002: val_acc improved from 0.98110 to 0.98730, saving model to /media/pintu/BACKUP/extra_projects/EVA/Session4/test_results/weights-improvement-02-0.9873.hdf5\n",
      "Epoch 3/15\n",
      "60000/60000 [==============================] - 9s 152us/step - loss: 0.0477 - acc: 0.9853 - val_loss: 0.0445 - val_acc: 0.9844\n",
      "\n",
      "Epoch 00003: val_acc did not improve from 0.98730\n",
      "Epoch 4/15\n",
      "60000/60000 [==============================] - 9s 156us/step - loss: 0.0421 - acc: 0.9869 - val_loss: 0.0374 - val_acc: 0.9886\n",
      "\n",
      "Epoch 00004: val_acc improved from 0.98730 to 0.98860, saving model to /media/pintu/BACKUP/extra_projects/EVA/Session4/test_results/weights-improvement-04-0.9886.hdf5\n",
      "Epoch 5/15\n",
      "60000/60000 [==============================] - 9s 148us/step - loss: 0.0361 - acc: 0.9883 - val_loss: 0.0363 - val_acc: 0.9890\n",
      "\n",
      "Epoch 00005: val_acc improved from 0.98860 to 0.98900, saving model to /media/pintu/BACKUP/extra_projects/EVA/Session4/test_results/weights-improvement-05-0.9890.hdf5\n",
      "Epoch 6/15\n",
      "60000/60000 [==============================] - 9s 152us/step - loss: 0.0329 - acc: 0.9894 - val_loss: 0.0299 - val_acc: 0.9896\n",
      "\n",
      "Epoch 00006: val_acc improved from 0.98900 to 0.98960, saving model to /media/pintu/BACKUP/extra_projects/EVA/Session4/test_results/weights-improvement-06-0.9896.hdf5\n",
      "Epoch 7/15\n",
      "60000/60000 [==============================] - 9s 150us/step - loss: 0.0302 - acc: 0.9905 - val_loss: 0.0268 - val_acc: 0.9917\n",
      "\n",
      "Epoch 00007: val_acc improved from 0.98960 to 0.99170, saving model to /media/pintu/BACKUP/extra_projects/EVA/Session4/test_results/weights-improvement-07-0.9917.hdf5\n",
      "Epoch 8/15\n",
      "60000/60000 [==============================] - 9s 149us/step - loss: 0.0279 - acc: 0.9910 - val_loss: 0.0302 - val_acc: 0.9908\n",
      "\n",
      "Epoch 00008: val_acc did not improve from 0.99170\n",
      "Epoch 9/15\n",
      "60000/60000 [==============================] - 9s 153us/step - loss: 0.0256 - acc: 0.9917 - val_loss: 0.0307 - val_acc: 0.9897\n",
      "\n",
      "Epoch 00009: val_acc did not improve from 0.99170\n",
      "Epoch 10/15\n",
      "60000/60000 [==============================] - 9s 149us/step - loss: 0.0251 - acc: 0.9921 - val_loss: 0.0293 - val_acc: 0.9911\n",
      "\n",
      "Epoch 00010: val_acc did not improve from 0.99170\n",
      "Epoch 11/15\n",
      "60000/60000 [==============================] - 9s 150us/step - loss: 0.0231 - acc: 0.9923 - val_loss: 0.0271 - val_acc: 0.9912\n",
      "\n",
      "Epoch 00011: val_acc did not improve from 0.99170\n",
      "Epoch 12/15\n",
      "60000/60000 [==============================] - 9s 150us/step - loss: 0.0209 - acc: 0.9932 - val_loss: 0.0299 - val_acc: 0.9905\n",
      "\n",
      "Epoch 00012: val_acc did not improve from 0.99170\n",
      "Epoch 13/15\n",
      "60000/60000 [==============================] - 9s 150us/step - loss: 0.0203 - acc: 0.9934 - val_loss: 0.0322 - val_acc: 0.9904\n",
      "\n",
      "Epoch 00013: val_acc did not improve from 0.99170\n",
      "Epoch 14/15\n",
      "60000/60000 [==============================] - 9s 151us/step - loss: 0.0198 - acc: 0.9932 - val_loss: 0.0266 - val_acc: 0.9929\n",
      "\n",
      "Epoch 00014: val_acc improved from 0.99170 to 0.99290, saving model to /media/pintu/BACKUP/extra_projects/EVA/Session4/test_results/weights-improvement-14-0.9929.hdf5\n",
      "Epoch 15/15\n",
      "60000/60000 [==============================] - 9s 151us/step - loss: 0.0177 - acc: 0.9941 - val_loss: 0.0293 - val_acc: 0.9911\n",
      "\n",
      "Epoch 00015: val_acc did not improve from 0.99290\n"
     ]
    },
    {
     "data": {
      "text/plain": [
       "<keras.callbacks.History at 0x7f186fc917b8>"
      ]
     },
     "execution_count": 13,
     "metadata": {},
     "output_type": "execute_result"
    }
   ],
   "source": [
    "model.compile(loss='categorical_crossentropy',\n",
    "             optimizer=Adam(lr = 0.003),\n",
    "             metrics=['accuracy'])\n",
    "\n",
    "model.fit(X_train, Y_train, batch_size=32, nb_epoch=15, verbose=1 , validation_data=(X_test, Y_test),callbacks=callbacks_list)"
   ]
  },
  {
   "cell_type": "markdown",
   "metadata": {},
   "source": [
    "Results:\n",
    "\n",
    "val_acc is 0.99290\n",
    "\n",
    "total params 14,058\n",
    "\n",
    "Batch norm incresed acc little bit but lets increase acc more\n",
    "\n",
    "let's add data augmentation and a bigger batch size to increase the accuracy"
   ]
  },
  {
   "cell_type": "markdown",
   "metadata": {},
   "source": [
    "# 4th code block"
   ]
  },
  {
   "cell_type": "markdown",
   "metadata": {},
   "source": [
    "base network + dropout + batch norm + data aug + bigger batch size\n",
    "\n",
    "\n",
    "adding extra - data aug + bigger batch size\n",
    "\n",
    "total params 14,058\n",
    "\n",
    "val acc becomes 0.99265"
   ]
  },
  {
   "cell_type": "code",
   "execution_count": 11,
   "metadata": {
    "ExecuteTime": {
     "end_time": "2019-08-14T18:00:56.650213Z",
     "start_time": "2019-08-14T18:00:55.653198Z"
    }
   },
   "outputs": [
    {
     "name": "stdout",
     "output_type": "stream",
     "text": [
      "WARNING:tensorflow:From /usr/lib/python3/dist-packages/tensorflow/python/framework/op_def_library.py:263: colocate_with (from tensorflow.python.framework.ops) is deprecated and will be removed in a future version.\n",
      "Instructions for updating:\n",
      "Colocations handled automatically by placer.\n"
     ]
    },
    {
     "name": "stderr",
     "output_type": "stream",
     "text": [
      "/home/pintu/.local/lib/python3.6/site-packages/ipykernel_launcher.py:5: UserWarning: Update your `Conv2D` call to the Keras 2 API: `Conv2D(32, (3, 3), activation=\"relu\", input_shape=(28, 28, 1...)`\n",
      "  \"\"\"\n"
     ]
    },
    {
     "name": "stdout",
     "output_type": "stream",
     "text": [
      "WARNING:tensorflow:From /home/pintu/.local/lib/python3.6/site-packages/keras/backend/tensorflow_backend.py:3445: calling dropout (from tensorflow.python.ops.nn_ops) with keep_prob is deprecated and will be removed in a future version.\n",
      "Instructions for updating:\n",
      "Please use `rate` instead of `keep_prob`. Rate should be set to `rate = 1 - keep_prob`.\n"
     ]
    },
    {
     "name": "stderr",
     "output_type": "stream",
     "text": [
      "/home/pintu/.local/lib/python3.6/site-packages/ipykernel_launcher.py:15: UserWarning: Update your `Conv2D` call to the Keras 2 API: `Conv2D(32, (3, 3), activation=\"relu\")`\n",
      "  from ipykernel import kernelapp as app\n",
      "/home/pintu/.local/lib/python3.6/site-packages/ipykernel_launcher.py:24: UserWarning: Update your `Conv2D` call to the Keras 2 API: `Conv2D(32, (3, 3), activation=\"relu\")`\n"
     ]
    },
    {
     "name": "stdout",
     "output_type": "stream",
     "text": [
      "_________________________________________________________________\n",
      "Layer (type)                 Output Shape              Param #   \n",
      "=================================================================\n",
      "conv2d_1 (Conv2D)            (None, 26, 26, 32)        320       \n",
      "_________________________________________________________________\n",
      "batch_normalization_1 (Batch (None, 26, 26, 32)        128       \n",
      "_________________________________________________________________\n",
      "dropout_1 (Dropout)          (None, 26, 26, 32)        0         \n",
      "_________________________________________________________________\n",
      "conv2d_2 (Conv2D)            (None, 26, 26, 16)        528       \n",
      "_________________________________________________________________\n",
      "batch_normalization_2 (Batch (None, 26, 26, 16)        64        \n",
      "_________________________________________________________________\n",
      "max_pooling2d_1 (MaxPooling2 (None, 13, 13, 16)        0         \n",
      "_________________________________________________________________\n",
      "conv2d_3 (Conv2D)            (None, 11, 11, 32)        4640      \n",
      "_________________________________________________________________\n",
      "batch_normalization_3 (Batch (None, 11, 11, 32)        128       \n",
      "_________________________________________________________________\n",
      "dropout_2 (Dropout)          (None, 11, 11, 32)        0         \n",
      "_________________________________________________________________\n",
      "conv2d_4 (Conv2D)            (None, 11, 11, 16)        528       \n",
      "_________________________________________________________________\n",
      "batch_normalization_4 (Batch (None, 11, 11, 16)        64        \n",
      "_________________________________________________________________\n",
      "max_pooling2d_2 (MaxPooling2 (None, 5, 5, 16)          0         \n",
      "_________________________________________________________________\n",
      "conv2d_5 (Conv2D)            (None, 3, 3, 32)          4640      \n",
      "_________________________________________________________________\n",
      "batch_normalization_5 (Batch (None, 3, 3, 32)          128       \n",
      "_________________________________________________________________\n",
      "dropout_3 (Dropout)          (None, 3, 3, 32)          0         \n",
      "_________________________________________________________________\n",
      "flatten_1 (Flatten)          (None, 288)               0         \n",
      "_________________________________________________________________\n",
      "dense_1 (Dense)              (None, 10)                2890      \n",
      "_________________________________________________________________\n",
      "activation_1 (Activation)    (None, 10)                0         \n",
      "=================================================================\n",
      "Total params: 14,058\n",
      "Trainable params: 13,802\n",
      "Non-trainable params: 256\n",
      "_________________________________________________________________\n"
     ]
    }
   ],
   "source": [
    "# Base architecture (no BN, DropOut, LR, larger batch size, change in Optimizer, etc)\n",
    "model = Sequential()\n",
    "\n",
    "# input = 28,28,1, output = 26, 26, 32 , receptive field = 3\n",
    "model.add(Convolution2D(32, 3, 3, activation='relu', input_shape=(28,28,1))) \n",
    "model.add(BatchNormalization())\n",
    "model.add(Dropout(0.1))\n",
    "# input =  26, 26, 32 output = 26, 26, 16 , receptive field = 3\n",
    "model.add(Convolution2D(16,1,activation='relu'))\n",
    "model.add(BatchNormalization())\n",
    "#receptive field = 6\n",
    "model.add(MaxPooling2D(pool_size=(2, 2)))\n",
    "\n",
    "# input =  13, 13, 16 output = 11, 11, 32 , receptive field = 8\n",
    "model.add(Convolution2D(32, 3, 3, activation='relu'))\n",
    "model.add(BatchNormalization())\n",
    "model.add(Dropout(0.1))\n",
    "# input =  11, 11, 32 output = 11, 11, 16 , receptive field = 8\n",
    "model.add(Convolution2D(16,1, activation='relu'))\n",
    "model.add(BatchNormalization())\n",
    "#receptive field = 16\n",
    "model.add(MaxPooling2D(pool_size=(2, 2)))\n",
    "# input =  5, 5, 16 output = 3, 3, 32 , receptive field = 18\n",
    "model.add(Convolution2D(32, 3, 3, activation='relu'))\n",
    "model.add(BatchNormalization())\n",
    "model.add(Dropout(0.1))\n",
    "\n",
    "model.add(Flatten())\n",
    "model.add(Dense(10))\n",
    "model.add(Activation('softmax'))\n",
    "model.summary()\n"
   ]
  },
  {
   "cell_type": "code",
   "execution_count": 13,
   "metadata": {
    "ExecuteTime": {
     "end_time": "2019-08-14T18:01:02.379925Z",
     "start_time": "2019-08-14T18:01:02.357046Z"
    }
   },
   "outputs": [],
   "source": [
    "model.compile(loss='categorical_crossentropy',\n",
    "             optimizer=Adam(lr = 0.003),\n",
    "             metrics=['accuracy'])"
   ]
  },
  {
   "cell_type": "code",
   "execution_count": 14,
   "metadata": {
    "ExecuteTime": {
     "end_time": "2019-08-14T18:03:21.980230Z",
     "start_time": "2019-08-14T18:01:08.533435Z"
    }
   },
   "outputs": [
    {
     "name": "stdout",
     "output_type": "stream",
     "text": [
      "WARNING:tensorflow:From /usr/lib/python3/dist-packages/tensorflow/python/ops/math_ops.py:3066: to_int32 (from tensorflow.python.ops.math_ops) is deprecated and will be removed in a future version.\n",
      "Instructions for updating:\n",
      "Use tf.cast instead.\n",
      "Epoch 1/15\n",
      "937/937 [==============================] - 10s 11ms/step - loss: 0.2389 - acc: 0.9251 - val_loss: 0.0548 - val_acc: 0.9804\n",
      "\n",
      "Epoch 00001: val_acc improved from -inf to 0.98037, saving model to /media/pintu/BACKUP/extra_projects/EVA/Session4/test_results/weights-improvement-01-0.9804.hdf5\n",
      "Epoch 2/15\n",
      "937/937 [==============================] - 9s 9ms/step - loss: 0.0961 - acc: 0.9699 - val_loss: 0.0428 - val_acc: 0.9877\n",
      "\n",
      "Epoch 00002: val_acc improved from 0.98037 to 0.98772, saving model to /media/pintu/BACKUP/extra_projects/EVA/Session4/test_results/weights-improvement-02-0.9877.hdf5\n",
      "Epoch 3/15\n",
      "937/937 [==============================] - 9s 9ms/step - loss: 0.0790 - acc: 0.9759 - val_loss: 0.0407 - val_acc: 0.9860\n",
      "\n",
      "Epoch 00003: val_acc did not improve from 0.98772\n",
      "Epoch 4/15\n",
      "937/937 [==============================] - 9s 9ms/step - loss: 0.0689 - acc: 0.9785 - val_loss: 0.0288 - val_acc: 0.9915\n",
      "\n",
      "Epoch 00004: val_acc improved from 0.98772 to 0.99155, saving model to /media/pintu/BACKUP/extra_projects/EVA/Session4/test_results/weights-improvement-04-0.9915.hdf5\n",
      "Epoch 5/15\n",
      "937/937 [==============================] - 9s 9ms/step - loss: 0.0632 - acc: 0.9806 - val_loss: 0.0394 - val_acc: 0.9877\n",
      "\n",
      "Epoch 00005: val_acc did not improve from 0.99155\n",
      "Epoch 6/15\n",
      "937/937 [==============================] - 9s 9ms/step - loss: 0.0598 - acc: 0.9815 - val_loss: 0.0366 - val_acc: 0.9868\n",
      "\n",
      "Epoch 00006: val_acc did not improve from 0.99155\n",
      "Epoch 7/15\n",
      "937/937 [==============================] - 9s 9ms/step - loss: 0.0553 - acc: 0.9830 - val_loss: 0.0215 - val_acc: 0.9915\n",
      "\n",
      "Epoch 00007: val_acc did not improve from 0.99155\n",
      "Epoch 8/15\n",
      "937/937 [==============================] - 9s 9ms/step - loss: 0.0518 - acc: 0.9843 - val_loss: 0.0199 - val_acc: 0.9926\n",
      "\n",
      "Epoch 00008: val_acc improved from 0.99155 to 0.99255, saving model to /media/pintu/BACKUP/extra_projects/EVA/Session4/test_results/weights-improvement-08-0.9926.hdf5\n",
      "Epoch 9/15\n",
      "937/937 [==============================] - 9s 9ms/step - loss: 0.0518 - acc: 0.9843 - val_loss: 0.0234 - val_acc: 0.9919\n",
      "\n",
      "Epoch 00009: val_acc did not improve from 0.99255\n",
      "Epoch 10/15\n",
      "937/937 [==============================] - 9s 9ms/step - loss: 0.0485 - acc: 0.9852 - val_loss: 0.0267 - val_acc: 0.9912\n",
      "\n",
      "Epoch 00010: val_acc did not improve from 0.99255\n",
      "Epoch 11/15\n",
      "937/937 [==============================] - 9s 9ms/step - loss: 0.0438 - acc: 0.9862 - val_loss: 0.0232 - val_acc: 0.9927\n",
      "\n",
      "Epoch 00011: val_acc improved from 0.99255 to 0.99265, saving model to /media/pintu/BACKUP/extra_projects/EVA/Session4/test_results/weights-improvement-11-0.9927.hdf5\n",
      "Epoch 12/15\n",
      "937/937 [==============================] - 9s 9ms/step - loss: 0.0440 - acc: 0.9861 - val_loss: 0.0231 - val_acc: 0.9921\n",
      "\n",
      "Epoch 00012: val_acc did not improve from 0.99265\n",
      "Epoch 13/15\n",
      "937/937 [==============================] - 9s 9ms/step - loss: 0.0447 - acc: 0.9859 - val_loss: 0.0201 - val_acc: 0.9927\n",
      "\n",
      "Epoch 00013: val_acc did not improve from 0.99265\n",
      "Epoch 14/15\n",
      "937/937 [==============================] - 9s 9ms/step - loss: 0.0394 - acc: 0.9877 - val_loss: 0.0251 - val_acc: 0.9926\n",
      "\n",
      "Epoch 00014: val_acc did not improve from 0.99265\n",
      "Epoch 15/15\n",
      "937/937 [==============================] - 9s 10ms/step - loss: 0.0418 - acc: 0.9872 - val_loss: 0.0227 - val_acc: 0.9927\n",
      "\n",
      "Epoch 00015: val_acc did not improve from 0.99265\n"
     ]
    },
    {
     "data": {
      "text/plain": [
       "<keras.callbacks.History at 0x7f25c33a6320>"
      ]
     },
     "execution_count": 14,
     "metadata": {},
     "output_type": "execute_result"
    }
   ],
   "source": [
    "\n",
    "# # fits the model on batches with real-time data augmentation:\n",
    "model.fit_generator(train_generator, steps_per_epoch=60000//64, epochs=15 ,\n",
    "                    validation_data=test_generator, validation_steps=10000//64,callbacks=callbacks_list)\n"
   ]
  },
  {
   "cell_type": "markdown",
   "metadata": {},
   "source": [
    "Results:\n",
    "\n",
    "val_acc is 0.99265\n",
    "\n",
    "Doesn't look like accuracy is changed much\n",
    "\n",
    "now in the last block add learning rate schedular"
   ]
  },
  {
   "cell_type": "markdown",
   "metadata": {},
   "source": [
    "# 5th block"
   ]
  },
  {
   "cell_type": "markdown",
   "metadata": {},
   "source": [
    "base network + dropout + batch norm + data aug + bigger batch size + lr_schedular\n",
    "\n",
    "adding extra - lr_schedular\n",
    "\n",
    "total params 14,058\n",
    "\n",
    "val acc becomes 0.99497 after 13th epoch"
   ]
  },
  {
   "cell_type": "code",
   "execution_count": 11,
   "metadata": {
    "ExecuteTime": {
     "end_time": "2019-08-14T18:25:54.949003Z",
     "start_time": "2019-08-14T18:23:36.063923Z"
    }
   },
   "outputs": [
    {
     "name": "stdout",
     "output_type": "stream",
     "text": [
      "WARNING:tensorflow:From /usr/lib/python3/dist-packages/tensorflow/python/framework/op_def_library.py:263: colocate_with (from tensorflow.python.framework.ops) is deprecated and will be removed in a future version.\n",
      "Instructions for updating:\n",
      "Colocations handled automatically by placer.\n"
     ]
    },
    {
     "name": "stderr",
     "output_type": "stream",
     "text": [
      "/home/pintu/.local/lib/python3.6/site-packages/ipykernel_launcher.py:7: UserWarning: Update your `Conv2D` call to the Keras 2 API: `Conv2D(32, (3, 3), activation=\"relu\", input_shape=(28, 28, 1...)`\n",
      "  import sys\n"
     ]
    },
    {
     "name": "stdout",
     "output_type": "stream",
     "text": [
      "WARNING:tensorflow:From /home/pintu/.local/lib/python3.6/site-packages/keras/backend/tensorflow_backend.py:3445: calling dropout (from tensorflow.python.ops.nn_ops) with keep_prob is deprecated and will be removed in a future version.\n",
      "Instructions for updating:\n",
      "Please use `rate` instead of `keep_prob`. Rate should be set to `rate = 1 - keep_prob`.\n"
     ]
    },
    {
     "name": "stderr",
     "output_type": "stream",
     "text": [
      "/home/pintu/.local/lib/python3.6/site-packages/ipykernel_launcher.py:17: UserWarning: Update your `Conv2D` call to the Keras 2 API: `Conv2D(32, (3, 3), activation=\"relu\")`\n",
      "/home/pintu/.local/lib/python3.6/site-packages/ipykernel_launcher.py:26: UserWarning: Update your `Conv2D` call to the Keras 2 API: `Conv2D(32, (3, 3), activation=\"relu\")`\n"
     ]
    },
    {
     "name": "stdout",
     "output_type": "stream",
     "text": [
      "_________________________________________________________________\n",
      "Layer (type)                 Output Shape              Param #   \n",
      "=================================================================\n",
      "conv2d_1 (Conv2D)            (None, 26, 26, 32)        320       \n",
      "_________________________________________________________________\n",
      "batch_normalization_1 (Batch (None, 26, 26, 32)        128       \n",
      "_________________________________________________________________\n",
      "dropout_1 (Dropout)          (None, 26, 26, 32)        0         \n",
      "_________________________________________________________________\n",
      "conv2d_2 (Conv2D)            (None, 26, 26, 16)        528       \n",
      "_________________________________________________________________\n",
      "batch_normalization_2 (Batch (None, 26, 26, 16)        64        \n",
      "_________________________________________________________________\n",
      "max_pooling2d_1 (MaxPooling2 (None, 13, 13, 16)        0         \n",
      "_________________________________________________________________\n",
      "conv2d_3 (Conv2D)            (None, 11, 11, 32)        4640      \n",
      "_________________________________________________________________\n",
      "batch_normalization_3 (Batch (None, 11, 11, 32)        128       \n",
      "_________________________________________________________________\n",
      "dropout_2 (Dropout)          (None, 11, 11, 32)        0         \n",
      "_________________________________________________________________\n",
      "conv2d_4 (Conv2D)            (None, 11, 11, 16)        528       \n",
      "_________________________________________________________________\n",
      "batch_normalization_4 (Batch (None, 11, 11, 16)        64        \n",
      "_________________________________________________________________\n",
      "max_pooling2d_2 (MaxPooling2 (None, 5, 5, 16)          0         \n",
      "_________________________________________________________________\n",
      "conv2d_5 (Conv2D)            (None, 3, 3, 32)          4640      \n",
      "_________________________________________________________________\n",
      "batch_normalization_5 (Batch (None, 3, 3, 32)          128       \n",
      "_________________________________________________________________\n",
      "dropout_3 (Dropout)          (None, 3, 3, 32)          0         \n",
      "_________________________________________________________________\n",
      "flatten_1 (Flatten)          (None, 288)               0         \n",
      "_________________________________________________________________\n",
      "dense_1 (Dense)              (None, 10)                2890      \n",
      "_________________________________________________________________\n",
      "activation_1 (Activation)    (None, 10)                0         \n",
      "=================================================================\n",
      "Total params: 14,058\n",
      "Trainable params: 13,802\n",
      "Non-trainable params: 256\n",
      "_________________________________________________________________\n",
      "WARNING:tensorflow:From /usr/lib/python3/dist-packages/tensorflow/python/ops/math_ops.py:3066: to_int32 (from tensorflow.python.ops.math_ops) is deprecated and will be removed in a future version.\n",
      "Instructions for updating:\n",
      "Use tf.cast instead.\n",
      "Epoch 1/15\n",
      "937/937 [==============================] - 10s 11ms/step - loss: 0.2446 - acc: 0.9234 - val_loss: 0.0728 - val_acc: 0.9764\n",
      "\n",
      "Epoch 00001: val_acc improved from -inf to 0.97636, saving model to /media/pintu/BACKUP/extra_projects/EVA/Session4/test_results/weights-improvement-01-0.9764.hdf5\n",
      "Epoch 2/15\n",
      "937/937 [==============================] - 9s 10ms/step - loss: 0.0933 - acc: 0.9708 - val_loss: 0.0343 - val_acc: 0.9890\n",
      "\n",
      "Epoch 00002: val_acc improved from 0.97636 to 0.98903, saving model to /media/pintu/BACKUP/extra_projects/EVA/Session4/test_results/weights-improvement-02-0.9890.hdf5\n",
      "Epoch 3/15\n",
      "937/937 [==============================] - 9s 10ms/step - loss: 0.0736 - acc: 0.9768 - val_loss: 0.0338 - val_acc: 0.9891\n",
      "\n",
      "Epoch 00003: val_acc improved from 0.98903 to 0.98913, saving model to /media/pintu/BACKUP/extra_projects/EVA/Session4/test_results/weights-improvement-03-0.9891.hdf5\n",
      "Epoch 4/15\n",
      "937/937 [==============================] - 9s 10ms/step - loss: 0.0653 - acc: 0.9794 - val_loss: 0.0279 - val_acc: 0.9903\n",
      "\n",
      "Epoch 00004: val_acc improved from 0.98913 to 0.99034, saving model to /media/pintu/BACKUP/extra_projects/EVA/Session4/test_results/weights-improvement-04-0.9903.hdf5\n",
      "Epoch 5/15\n",
      "937/937 [==============================] - 9s 10ms/step - loss: 0.0574 - acc: 0.9821 - val_loss: 0.0231 - val_acc: 0.9928\n",
      "\n",
      "Epoch 00005: val_acc improved from 0.99034 to 0.99275, saving model to /media/pintu/BACKUP/extra_projects/EVA/Session4/test_results/weights-improvement-05-0.9928.hdf5\n",
      "Epoch 6/15\n",
      "937/937 [==============================] - 9s 10ms/step - loss: 0.0548 - acc: 0.9828 - val_loss: 0.0285 - val_acc: 0.9911\n",
      "\n",
      "Epoch 00006: val_acc did not improve from 0.99275\n",
      "Epoch 7/15\n",
      "937/937 [==============================] - 9s 10ms/step - loss: 0.0480 - acc: 0.9850 - val_loss: 0.0266 - val_acc: 0.9925\n",
      "\n",
      "Epoch 00007: val_acc did not improve from 0.99275\n",
      "Epoch 8/15\n",
      "937/937 [==============================] - 9s 10ms/step - loss: 0.0461 - acc: 0.9857 - val_loss: 0.0227 - val_acc: 0.9930\n",
      "\n",
      "Epoch 00008: val_acc improved from 0.99275 to 0.99295, saving model to /media/pintu/BACKUP/extra_projects/EVA/Session4/test_results/weights-improvement-08-0.9930.hdf5\n",
      "Epoch 9/15\n",
      "937/937 [==============================] - 9s 10ms/step - loss: 0.0432 - acc: 0.9864 - val_loss: 0.0194 - val_acc: 0.9933\n",
      "\n",
      "Epoch 00009: val_acc improved from 0.99295 to 0.99326, saving model to /media/pintu/BACKUP/extra_projects/EVA/Session4/test_results/weights-improvement-09-0.9933.hdf5\n",
      "Epoch 10/15\n",
      "937/937 [==============================] - 9s 10ms/step - loss: 0.0416 - acc: 0.9864 - val_loss: 0.0202 - val_acc: 0.9933\n",
      "\n",
      "Epoch 00010: val_acc did not improve from 0.99326\n",
      "Epoch 11/15\n",
      "937/937 [==============================] - 9s 10ms/step - loss: 0.0389 - acc: 0.9872 - val_loss: 0.0214 - val_acc: 0.9933\n",
      "\n",
      "Epoch 00011: val_acc did not improve from 0.99326\n",
      "Epoch 12/15\n",
      "937/937 [==============================] - 9s 10ms/step - loss: 0.0391 - acc: 0.9872 - val_loss: 0.0199 - val_acc: 0.9930\n",
      "\n",
      "Epoch 00012: val_acc did not improve from 0.99326\n",
      "Epoch 13/15\n",
      "937/937 [==============================] - 9s 10ms/step - loss: 0.0378 - acc: 0.9885 - val_loss: 0.0163 - val_acc: 0.9949\n",
      "\n",
      "Epoch 00013: val_acc improved from 0.99326 to 0.99487, saving model to /media/pintu/BACKUP/extra_projects/EVA/Session4/test_results/weights-improvement-13-0.9949.hdf5\n",
      "Epoch 14/15\n",
      "937/937 [==============================] - 9s 10ms/step - loss: 0.0356 - acc: 0.9890 - val_loss: 0.0170 - val_acc: 0.9950\n",
      "\n",
      "Epoch 00014: val_acc improved from 0.99487 to 0.99497, saving model to /media/pintu/BACKUP/extra_projects/EVA/Session4/test_results/weights-improvement-14-0.9950.hdf5\n",
      "Epoch 15/15\n",
      "937/937 [==============================] - 9s 10ms/step - loss: 0.0351 - acc: 0.9887 - val_loss: 0.0186 - val_acc: 0.9944\n",
      "\n",
      "Epoch 00015: val_acc did not improve from 0.99497\n"
     ]
    },
    {
     "data": {
      "text/plain": [
       "<keras.callbacks.History at 0x7f9d284a1940>"
      ]
     },
     "execution_count": 11,
     "metadata": {},
     "output_type": "execute_result"
    }
   ],
   "source": [
    "\n",
    "\n",
    "# Base architecture (no BN, DropOut, LR, larger batch size, change in Optimizer, etc)\n",
    "model = Sequential()\n",
    "\n",
    "# input = 28,28,1, output = 26, 26, 32 , receptive field = 3\n",
    "model.add(Convolution2D(32, 3, 3, activation='relu', input_shape=(28,28,1))) \n",
    "model.add(BatchNormalization())\n",
    "model.add(Dropout(0.1))\n",
    "# input =  26, 26, 32 output = 26, 26, 16 , receptive field = 3\n",
    "model.add(Convolution2D(16,1,activation='relu'))\n",
    "model.add(BatchNormalization())\n",
    "#receptive field = 6\n",
    "model.add(MaxPooling2D(pool_size=(2, 2)))\n",
    "\n",
    "# input =  13, 13, 16 output = 11, 11, 32 , receptive field = 8\n",
    "model.add(Convolution2D(32, 3, 3, activation='relu'))\n",
    "model.add(BatchNormalization())\n",
    "model.add(Dropout(0.1))\n",
    "# input =  11, 11, 32 output = 11, 11, 16 , receptive field = 8\n",
    "model.add(Convolution2D(16,1, activation='relu'))\n",
    "model.add(BatchNormalization())\n",
    "#receptive field = 16\n",
    "model.add(MaxPooling2D(pool_size=(2, 2)))\n",
    "# input =  5, 5, 16 output = 3, 3, 32 , receptive field = 18\n",
    "model.add(Convolution2D(32, 3, 3, activation='relu'))\n",
    "model.add(BatchNormalization())\n",
    "model.add(Dropout(0.1))\n",
    "\n",
    "model.add(Flatten())\n",
    "model.add(Dense(10))\n",
    "model.add(Activation('softmax'))\n",
    "model.summary()\n",
    "\n",
    "model.compile(loss='categorical_crossentropy',\n",
    "             optimizer=Adam(lr = 0.003),\n",
    "             metrics=['accuracy'])\n",
    "\n",
    "\n",
    "# adding learning rate schedular\n",
    "callbacks_list = [checkpoint,lr_sch]\n",
    "\n",
    "\n",
    "model.fit_generator(train_generator, steps_per_epoch=60000//64, epochs=15 ,\n",
    "                    validation_data=test_generator, validation_steps=10000//64,callbacks=callbacks_list)\n"
   ]
  },
  {
   "cell_type": "markdown",
   "metadata": {},
   "source": [
    "Results:\n",
    "\n",
    "val_acc becomes 99.4 after 13th epoch"
   ]
  },
  {
   "cell_type": "code",
   "execution_count": 12,
   "metadata": {
    "ExecuteTime": {
     "end_time": "2019-08-14T18:26:58.695737Z",
     "start_time": "2019-08-14T18:26:57.001139Z"
    }
   },
   "outputs": [],
   "source": [
    "model = load_model('/media/pintu/BACKUP/extra_projects/EVA/Session4/test_results/weights-improvement-14-0.9950.hdf5')"
   ]
  },
  {
   "cell_type": "code",
   "execution_count": 15,
   "metadata": {
    "ExecuteTime": {
     "end_time": "2019-08-14T18:28:42.490814Z",
     "start_time": "2019-08-14T18:28:41.875158Z"
    }
   },
   "outputs": [
    {
     "name": "stdout",
     "output_type": "stream",
     "text": [
      "[0.016256367067137036, 0.9952]\n"
     ]
    }
   ],
   "source": [
    "score = model.evaluate(X_test, Y_test, verbose=0)\n",
    "print(score)\n",
    "y_pred = model.predict(X_test)\n",
    "# print(y_pred)"
   ]
  }
 ],
 "metadata": {
  "accelerator": "GPU",
  "colab": {
   "collapsed_sections": [],
   "name": "1st DNN.ipynb",
   "provenance": [],
   "version": "0.3.2"
  },
  "hide_input": false,
  "kernelspec": {
   "display_name": "Python 3",
   "language": "python",
   "name": "python3"
  },
  "language_info": {
   "codemirror_mode": {
    "name": "ipython",
    "version": 3
   },
   "file_extension": ".py",
   "mimetype": "text/x-python",
   "name": "python",
   "nbconvert_exporter": "python",
   "pygments_lexer": "ipython3",
   "version": "3.6.8"
  }
 },
 "nbformat": 4,
 "nbformat_minor": 1
}
